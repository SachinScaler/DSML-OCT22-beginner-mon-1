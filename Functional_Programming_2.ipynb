{
  "nbformat": 4,
  "nbformat_minor": 0,
  "metadata": {
    "colab": {
      "provenance": []
    },
    "kernelspec": {
      "name": "python3",
      "display_name": "Python 3"
    },
    "language_info": {
      "name": "python"
    },
    "gpuClass": "standard"
  },
  "cells": [
    {
      "cell_type": "markdown",
      "source": [
        "https://colab.research.google.com/drive/1nqktZwKreze8duQ5t4_lVNjFLE666R_P?usp=sharing"
      ],
      "metadata": {
        "id": "o7s-97YDBXRb"
      }
    },
    {
      "cell_type": "markdown",
      "source": [
        "B) Lambda Functions can't be stored in Variable\n",
        "C) Lambda function takes a set of inputs and returns one or more outputs"
      ],
      "metadata": {
        "id": "M6VSE_ziGowr"
      }
    },
    {
      "cell_type": "code",
      "execution_count": null,
      "metadata": {
        "colab": {
          "base_uri": "https://localhost:8080/"
        },
        "id": "SHYObbgCBEY8",
        "outputId": "0c6f61c0-df1b-4dd6-91bf-d3c419c3b763"
      },
      "outputs": [
        {
          "output_type": "execute_result",
          "data": {
            "text/plain": [
              "9"
            ]
          },
          "metadata": {},
          "execution_count": 4
        }
      ],
      "source": [
        "a = lambda x: x**2\n",
        "a(3)"
      ]
    },
    {
      "cell_type": "code",
      "source": [
        "a = lambda x,y: [x*y,y*x]\n",
        "a(3,4)"
      ],
      "metadata": {
        "colab": {
          "base_uri": "https://localhost:8080/"
        },
        "id": "GcoEmvDJHEbV",
        "outputId": "06b48f13-25e5-43f9-de95-12309ccaf1e1"
      },
      "execution_count": null,
      "outputs": [
        {
          "output_type": "execute_result",
          "data": {
            "text/plain": [
              "[12, 12]"
            ]
          },
          "metadata": {},
          "execution_count": 7
        }
      ]
    },
    {
      "cell_type": "markdown",
      "source": [],
      "metadata": {
        "id": "hUiIo-s8G2YO"
      }
    },
    {
      "cell_type": "markdown",
      "source": [
        "### Map:"
      ],
      "metadata": {
        "id": "T89v0XBBLXuD"
      }
    },
    {
      "cell_type": "code",
      "source": [
        "list1 = [1,2,3,4,5,6,7]\n",
        "\n",
        "list2 = [i*i for i in list1]\n",
        "list2"
      ],
      "metadata": {
        "colab": {
          "base_uri": "https://localhost:8080/"
        },
        "id": "eV3cR6PxLbGF",
        "outputId": "c4310420-5d74-4ad6-add6-aa145846a9a6"
      },
      "execution_count": null,
      "outputs": [
        {
          "output_type": "execute_result",
          "data": {
            "text/plain": [
              "[1, 4, 9, 16, 25, 36, 49]"
            ]
          },
          "metadata": {},
          "execution_count": 8
        }
      ]
    },
    {
      "cell_type": "code",
      "source": [
        "def func(x):\n",
        "  return x**2\n",
        "\n",
        "print(map(func, list1))"
      ],
      "metadata": {
        "colab": {
          "base_uri": "https://localhost:8080/"
        },
        "id": "wXmxyCWjLirB",
        "outputId": "feac6d86-65d3-4d14-e10f-d9f64a2650b6"
      },
      "execution_count": null,
      "outputs": [
        {
          "output_type": "stream",
          "name": "stdout",
          "text": [
            "<map object at 0x7f8c89c6f580>\n"
          ]
        }
      ]
    },
    {
      "cell_type": "code",
      "source": [
        "print(list1)\n",
        "list(map(func, list1))"
      ],
      "metadata": {
        "colab": {
          "base_uri": "https://localhost:8080/"
        },
        "id": "Hlwg-jvLMl7P",
        "outputId": "9d6917d4-1b90-4dc6-c7fb-01a88fc7dbf3"
      },
      "execution_count": null,
      "outputs": [
        {
          "output_type": "stream",
          "name": "stdout",
          "text": [
            "[1, 2, 3, 4, 5, 6, 7]\n"
          ]
        },
        {
          "output_type": "execute_result",
          "data": {
            "text/plain": [
              "[1, 4, 9, 16, 25, 36, 49]"
            ]
          },
          "metadata": {},
          "execution_count": 11
        }
      ]
    },
    {
      "cell_type": "code",
      "source": [
        "list(map(int, \"1 2 3\".split(\" \")))"
      ],
      "metadata": {
        "colab": {
          "base_uri": "https://localhost:8080/"
        },
        "id": "Ti7GNFIUMrvY",
        "outputId": "a2908c9f-7fbe-4c92-d0d5-cedf7ec316a3"
      },
      "execution_count": null,
      "outputs": [
        {
          "output_type": "execute_result",
          "data": {
            "text/plain": [
              "[1, 2, 3]"
            ]
          },
          "metadata": {},
          "execution_count": 14
        }
      ]
    },
    {
      "cell_type": "code",
      "source": [
        "list(map(int, input().split(\" \")))"
      ],
      "metadata": {
        "colab": {
          "base_uri": "https://localhost:8080/"
        },
        "id": "6z5_hB9ONEw8",
        "outputId": "83ca8f6f-6c23-45cb-c2b3-a4ea7146819b"
      },
      "execution_count": null,
      "outputs": [
        {
          "name": "stdout",
          "output_type": "stream",
          "text": [
            "4 5 6\n"
          ]
        },
        {
          "output_type": "execute_result",
          "data": {
            "text/plain": [
              "[4, 5, 6]"
            ]
          },
          "metadata": {},
          "execution_count": 17
        }
      ]
    },
    {
      "cell_type": "code",
      "source": [
        "print(list1)\n",
        "list(map(lambda x:x**2+10, list1))"
      ],
      "metadata": {
        "colab": {
          "base_uri": "https://localhost:8080/"
        },
        "id": "2QVIQlL4NXHi",
        "outputId": "1bb2f6be-c0c5-4be5-fbfc-a0242faddc7e"
      },
      "execution_count": null,
      "outputs": [
        {
          "output_type": "stream",
          "name": "stdout",
          "text": [
            "[1, 2, 3, 4, 5, 6, 7]\n"
          ]
        },
        {
          "output_type": "execute_result",
          "data": {
            "text/plain": [
              "[1, 4, 9, 16, 25, 36, 49]"
            ]
          },
          "metadata": {},
          "execution_count": 18
        }
      ]
    },
    {
      "cell_type": "markdown",
      "source": [
        "```\n",
        "1: List Comp\n",
        "2. Standard func with map\n",
        "3. Lambda func with map\n",
        "\n",
        "```"
      ],
      "metadata": {
        "id": "ChfPN6yBOf8s"
      }
    },
    {
      "cell_type": "code",
      "source": [
        "import time \n",
        "\n",
        "start = time.time()\n",
        "\n",
        "list1 = [1,2,3,4,5,6,7]\n",
        "list2 = [i*i for i in list1]\n",
        "print(list2)\n",
        "\n",
        "end  = time.time()\n",
        "print(f\"time taken: {end-start}\")"
      ],
      "metadata": {
        "colab": {
          "base_uri": "https://localhost:8080/"
        },
        "id": "kFlpZflHNv54",
        "outputId": "5b4b5217-5056-40dd-db48-7af329200094"
      },
      "execution_count": null,
      "outputs": [
        {
          "output_type": "stream",
          "name": "stdout",
          "text": [
            "[1, 4, 9, 16, 25, 36, 49]\n",
            "time taken: 0.0035452842712402344\n"
          ]
        }
      ]
    },
    {
      "cell_type": "code",
      "source": [
        "import time \n",
        "\n",
        "start = time.time()\n",
        "\n",
        "def func(x):\n",
        "  return x**2\n",
        "list1 = [1,2,3,4,5,6,7]\n",
        "list2 = list(map(func, list1))\n",
        "print(list2)\n",
        "\n",
        "end  = time.time()\n",
        "print(f\"time taken: {end-start}\")"
      ],
      "metadata": {
        "colab": {
          "base_uri": "https://localhost:8080/"
        },
        "id": "c6GVslKpPRLn",
        "outputId": "b0fc29a9-30c7-4366-f561-3cc8020b661b"
      },
      "execution_count": null,
      "outputs": [
        {
          "output_type": "stream",
          "name": "stdout",
          "text": [
            "[1, 4, 9, 16, 25, 36, 49]\n",
            "time taken: 0.002153635025024414\n"
          ]
        }
      ]
    },
    {
      "cell_type": "code",
      "source": [
        "%%timeit\n",
        "list1 = [1,2,3,4,5,6,7]\n",
        "list2 = [i*i for i in list1]\n",
        "# print(list2)"
      ],
      "metadata": {
        "colab": {
          "base_uri": "https://localhost:8080/"
        },
        "id": "CM1zS88VPzMG",
        "outputId": "2cf2d424-2d53-486f-e44f-3d54ed907cbd"
      },
      "execution_count": null,
      "outputs": [
        {
          "output_type": "stream",
          "name": "stdout",
          "text": [
            "841 ns ± 244 ns per loop (mean ± std. dev. of 7 runs, 1000000 loops each)\n"
          ]
        }
      ]
    },
    {
      "cell_type": "code",
      "source": [
        "%%timeit\n",
        "def func(x):\n",
        "  return x**2\n",
        "list1 = [1,2,3,4,5,6,7]\n",
        "list2 = list(map(func, list1))"
      ],
      "metadata": {
        "colab": {
          "base_uri": "https://localhost:8080/"
        },
        "id": "HwfFojuxQVpE",
        "outputId": "39641fbc-dd28-49eb-925e-2151401567c8"
      },
      "execution_count": null,
      "outputs": [
        {
          "output_type": "stream",
          "name": "stdout",
          "text": [
            "4.73 µs ± 1.47 µs per loop (mean ± std. dev. of 7 runs, 100000 loops each)\n"
          ]
        }
      ]
    },
    {
      "cell_type": "markdown",
      "source": [
        "### Filter"
      ],
      "metadata": {
        "id": "1EnShfb0UzWO"
      }
    },
    {
      "cell_type": "code",
      "source": [
        "a = list(range(1,10))\n",
        "print(a)"
      ],
      "metadata": {
        "colab": {
          "base_uri": "https://localhost:8080/"
        },
        "id": "CIa7YF15QrMD",
        "outputId": "6e784d56-b32b-464a-95cd-26b845309d64"
      },
      "execution_count": null,
      "outputs": [
        {
          "output_type": "stream",
          "name": "stdout",
          "text": [
            "[1, 2, 3, 4, 5, 6, 7, 8, 9]\n"
          ]
        }
      ]
    },
    {
      "cell_type": "code",
      "source": [
        "filter(lambda x:x%2==0,a)"
      ],
      "metadata": {
        "colab": {
          "base_uri": "https://localhost:8080/"
        },
        "id": "jj4g16YPU6FW",
        "outputId": "47ef6edb-8437-4fa5-88b2-7f397d886e67"
      },
      "execution_count": null,
      "outputs": [
        {
          "output_type": "execute_result",
          "data": {
            "text/plain": [
              "<filter at 0x7f8c7901f580>"
            ]
          },
          "metadata": {},
          "execution_count": 29
        }
      ]
    },
    {
      "cell_type": "code",
      "source": [
        "list(filter(lambda x:x%2==0,a))"
      ],
      "metadata": {
        "colab": {
          "base_uri": "https://localhost:8080/"
        },
        "id": "XPi6oUlpVE2j",
        "outputId": "d7eeba7e-eb2a-42cb-e2b1-626e5abcc715"
      },
      "execution_count": null,
      "outputs": [
        {
          "output_type": "execute_result",
          "data": {
            "text/plain": [
              "[2, 4, 6, 8]"
            ]
          },
          "metadata": {},
          "execution_count": 30
        }
      ]
    },
    {
      "cell_type": "code",
      "source": [
        "def function(x,y):\n",
        "  return x+y\n",
        "\n",
        "def function2(x,y):\n",
        "  return x*y\n",
        "\n",
        "\n",
        "a = range(1,8)"
      ],
      "metadata": {
        "id": "dZYuODY8VIf4"
      },
      "execution_count": null,
      "outputs": []
    },
    {
      "cell_type": "code",
      "source": [
        "from functools import reduce\n",
        "\n",
        "reduce(function,a)\n"
      ],
      "metadata": {
        "colab": {
          "base_uri": "https://localhost:8080/"
        },
        "id": "FDGexgb-X1Ib",
        "outputId": "f772720b-d67e-42e1-93d6-244e63d52a4a"
      },
      "execution_count": null,
      "outputs": [
        {
          "output_type": "execute_result",
          "data": {
            "text/plain": [
              "28"
            ]
          },
          "metadata": {},
          "execution_count": 35
        }
      ]
    },
    {
      "cell_type": "code",
      "source": [
        "reduce(function2,a)"
      ],
      "metadata": {
        "colab": {
          "base_uri": "https://localhost:8080/"
        },
        "id": "_coyvtR8YF6c",
        "outputId": "a2116691-f65f-465e-9867-5723294efc16"
      },
      "execution_count": null,
      "outputs": [
        {
          "output_type": "execute_result",
          "data": {
            "text/plain": [
              "5040"
            ]
          },
          "metadata": {},
          "execution_count": 36
        }
      ]
    },
    {
      "cell_type": "code",
      "source": [
        "reduce(lambda x,y: x+y,a)"
      ],
      "metadata": {
        "colab": {
          "base_uri": "https://localhost:8080/"
        },
        "id": "5NNGOGraYQR_",
        "outputId": "c2c7d5c8-23f6-4ab3-cf2a-b20d9387697b"
      },
      "execution_count": null,
      "outputs": [
        {
          "output_type": "execute_result",
          "data": {
            "text/plain": [
              "28"
            ]
          },
          "metadata": {},
          "execution_count": 37
        }
      ]
    },
    {
      "cell_type": "code",
      "source": [
        "a = range(1,8)\n",
        "reduce(lambda x,y: x if x>y else y ,a)"
      ],
      "metadata": {
        "colab": {
          "base_uri": "https://localhost:8080/"
        },
        "id": "BzunhZGYYjgX",
        "outputId": "5ed8d8ab-b866-4c0f-bf04-b824a9474668"
      },
      "execution_count": null,
      "outputs": [
        {
          "output_type": "execute_result",
          "data": {
            "text/plain": [
              "7"
            ]
          },
          "metadata": {},
          "execution_count": 40
        }
      ]
    },
    {
      "cell_type": "code",
      "source": [
        "(lambda x,y: x if x>y else y)(1,3)"
      ],
      "metadata": {
        "colab": {
          "base_uri": "https://localhost:8080/"
        },
        "id": "yhdN7sz8YwdK",
        "outputId": "48183ef7-4a70-4d72-e4e1-6946b4b60411"
      },
      "execution_count": null,
      "outputs": [
        {
          "output_type": "execute_result",
          "data": {
            "text/plain": [
              "3"
            ]
          },
          "metadata": {},
          "execution_count": 39
        }
      ]
    },
    {
      "cell_type": "code",
      "source": [],
      "metadata": {
        "id": "Xg5KClXiY0X2"
      },
      "execution_count": null,
      "outputs": []
    },
    {
      "cell_type": "markdown",
      "source": [
        "Zip: takes two iterables, and zips thems"
      ],
      "metadata": {
        "id": "FuD8M4fFaDJk"
      }
    },
    {
      "cell_type": "code",
      "source": [
        "list1 = [ 3,4,5]\n",
        "list2 = [ 6,7,8]\n",
        "zip(list1, list2)"
      ],
      "metadata": {
        "colab": {
          "base_uri": "https://localhost:8080/"
        },
        "id": "SBM-JgxNaBw8",
        "outputId": "5eac6495-2084-43fd-9e1a-6726fae931be"
      },
      "execution_count": null,
      "outputs": [
        {
          "output_type": "execute_result",
          "data": {
            "text/plain": [
              "<zip at 0x7f8c790784c0>"
            ]
          },
          "metadata": {},
          "execution_count": 42
        }
      ]
    },
    {
      "cell_type": "code",
      "source": [
        "list(zip(list1, list2))"
      ],
      "metadata": {
        "colab": {
          "base_uri": "https://localhost:8080/"
        },
        "id": "JTZdrEnlaeN6",
        "outputId": "74ae0cb2-32a4-4677-85ce-6e15b7eb4cab"
      },
      "execution_count": null,
      "outputs": [
        {
          "output_type": "execute_result",
          "data": {
            "text/plain": [
              "[(3, 6), (4, 7), (5, 8)]"
            ]
          },
          "metadata": {},
          "execution_count": 43
        }
      ]
    },
    {
      "cell_type": "code",
      "source": [
        "list1 = [ 3,4,5, 6 ,10, 11]\n",
        "list2 = [ 6,7,8]\n",
        "list(zip(list1, list2))"
      ],
      "metadata": {
        "colab": {
          "base_uri": "https://localhost:8080/"
        },
        "id": "wg2TjIASasG_",
        "outputId": "32f2d94c-905f-4408-e46a-643a9923f6d1"
      },
      "execution_count": null,
      "outputs": [
        {
          "output_type": "execute_result",
          "data": {
            "text/plain": [
              "[(3, 6), (4, 7), (5, 8)]"
            ]
          },
          "metadata": {},
          "execution_count": 45
        }
      ]
    },
    {
      "cell_type": "code",
      "source": [
        "list1 = [3,4,5, 6 ,10, 11]\n",
        "list2 = [6,7,8, 99, 80]\n",
        "list3 = [10,11,12]\n",
        "\n",
        "list(zip(list1,list2,list3))"
      ],
      "metadata": {
        "colab": {
          "base_uri": "https://localhost:8080/"
        },
        "id": "a8hSD5ofa5Zq",
        "outputId": "2d291ea5-a961-41ab-d5d4-aba3b2fd943c"
      },
      "execution_count": null,
      "outputs": [
        {
          "output_type": "execute_result",
          "data": {
            "text/plain": [
              "[(3, 6, 10), (4, 7, 11), (5, 8, 12)]"
            ]
          },
          "metadata": {},
          "execution_count": 48
        }
      ]
    },
    {
      "cell_type": "code",
      "source": [
        "# homework\n",
        "list(map(list, list(zip(list1,list2,list3))))"
      ],
      "metadata": {
        "colab": {
          "base_uri": "https://localhost:8080/"
        },
        "id": "xVXqVA8ZbM6L",
        "outputId": "0bb24122-e999-4263-ee93-e461d114c8ef"
      },
      "execution_count": null,
      "outputs": [
        {
          "output_type": "execute_result",
          "data": {
            "text/plain": [
              "[[3, 6, 10], [4, 7, 11], [5, 8, 12]]"
            ]
          },
          "metadata": {},
          "execution_count": 50
        }
      ]
    },
    {
      "cell_type": "code",
      "source": [
        "for k,v in zip(list1, list2):\n",
        "  print(k,v)"
      ],
      "metadata": {
        "colab": {
          "base_uri": "https://localhost:8080/"
        },
        "id": "gueZNNYOb0qI",
        "outputId": "161febc3-b1a1-480d-840e-e2b47576ce53"
      },
      "execution_count": null,
      "outputs": [
        {
          "output_type": "stream",
          "name": "stdout",
          "text": [
            "3 6\n",
            "4 7\n",
            "5 8\n",
            "6 99\n",
            "10 80\n"
          ]
        }
      ]
    },
    {
      "cell_type": "code",
      "source": [
        "student = [\"Himanshi\", \"Gouni\", \"Sharat\"]\n",
        "marks = [90, 40, 100]\n",
        "dict(zip(student,marks))"
      ],
      "metadata": {
        "colab": {
          "base_uri": "https://localhost:8080/"
        },
        "id": "t3jeV2Npb_Om",
        "outputId": "f67133ea-3627-4076-c2c8-e18529715be1"
      },
      "execution_count": null,
      "outputs": [
        {
          "output_type": "execute_result",
          "data": {
            "text/plain": [
              "{'Himanshi': 90, 'Gouni': 40, 'Sharat': 100}"
            ]
          },
          "metadata": {},
          "execution_count": 52
        }
      ]
    },
    {
      "cell_type": "code",
      "source": [
        "#list(zip(*zip_obj))\n",
        "# unzipping\n",
        "list(zip(*zip(student,marks)))"
      ],
      "metadata": {
        "colab": {
          "base_uri": "https://localhost:8080/"
        },
        "id": "m0bUwMVYcdBN",
        "outputId": "723bac97-3229-4d81-b8f1-ddbefc3fd86e"
      },
      "execution_count": null,
      "outputs": [
        {
          "output_type": "execute_result",
          "data": {
            "text/plain": [
              "[('Himanshi', 'Gouni', 'Sharat'), (90, 40, 100)]"
            ]
          },
          "metadata": {},
          "execution_count": 57
        }
      ]
    },
    {
      "cell_type": "markdown",
      "source": [
        "- Homework:\n",
        "Create a cheat sheet \n"
      ],
      "metadata": {
        "id": "O9Gz9D0OZa2M"
      }
    },
    {
      "cell_type": "markdown",
      "source": [
        "- Variable number of arguments: *args and *kwargs"
      ],
      "metadata": {
        "id": "P4GGp4TfZXzH"
      }
    },
    {
      "cell_type": "code",
      "source": [
        "def funct(x,y):\n",
        "  return x+y\n",
        "\n",
        "funct(3,4,6)"
      ],
      "metadata": {
        "colab": {
          "base_uri": "https://localhost:8080/",
          "height": 215
        },
        "id": "NpuRtFYodXAW",
        "outputId": "732dca3d-f886-402a-a743-de24c371ddbf"
      },
      "execution_count": null,
      "outputs": [
        {
          "output_type": "error",
          "ename": "TypeError",
          "evalue": "ignored",
          "traceback": [
            "\u001b[0;31m---------------------------------------------------------------------------\u001b[0m",
            "\u001b[0;31mTypeError\u001b[0m                                 Traceback (most recent call last)",
            "\u001b[0;32m<ipython-input-58-fa3f845f9b47>\u001b[0m in \u001b[0;36m<module>\u001b[0;34m\u001b[0m\n\u001b[1;32m      2\u001b[0m   \u001b[0;32mreturn\u001b[0m \u001b[0mx\u001b[0m\u001b[0;34m+\u001b[0m\u001b[0my\u001b[0m\u001b[0;34m\u001b[0m\u001b[0;34m\u001b[0m\u001b[0m\n\u001b[1;32m      3\u001b[0m \u001b[0;34m\u001b[0m\u001b[0m\n\u001b[0;32m----> 4\u001b[0;31m \u001b[0mfunct\u001b[0m\u001b[0;34m(\u001b[0m\u001b[0;36m3\u001b[0m\u001b[0;34m,\u001b[0m\u001b[0;36m4\u001b[0m\u001b[0;34m,\u001b[0m\u001b[0;36m6\u001b[0m\u001b[0;34m)\u001b[0m\u001b[0;34m\u001b[0m\u001b[0;34m\u001b[0m\u001b[0m\n\u001b[0m",
            "\u001b[0;31mTypeError\u001b[0m: funct() takes 2 positional arguments but 3 were given"
          ]
        }
      ]
    },
    {
      "cell_type": "code",
      "source": [
        "def funct(x,y,*args):\n",
        "  print(\"X\",x)\n",
        "  print(\"Y\",y)\n",
        "  print(\"args\",*args)\n",
        "\n",
        "funct(3,4,5,6)"
      ],
      "metadata": {
        "colab": {
          "base_uri": "https://localhost:8080/"
        },
        "id": "1A1IZwAjd9ay",
        "outputId": "10739c89-8d1f-4de2-eb59-dc0d854dcdca"
      },
      "execution_count": null,
      "outputs": [
        {
          "output_type": "stream",
          "name": "stdout",
          "text": [
            "X 3\n",
            "Y 4\n",
            "args 5 6\n"
          ]
        }
      ]
    },
    {
      "cell_type": "code",
      "source": [
        "def funct(x,y,*args):\n",
        "  print(\"X\",x)\n",
        "  print(\"Y\",y)\n",
        "  print(\"args\",*args, type(args))\n",
        "  for i in args:\n",
        "    print(i)\n",
        "\n",
        "funct(3,4,5)"
      ],
      "metadata": {
        "colab": {
          "base_uri": "https://localhost:8080/"
        },
        "id": "-iTThFBCeI9A",
        "outputId": "51d3d1ac-8df6-40ec-8363-f47dda441a25"
      },
      "execution_count": null,
      "outputs": [
        {
          "output_type": "stream",
          "name": "stdout",
          "text": [
            "X 3\n",
            "Y 4\n",
            "args 5 <class 'tuple'>\n",
            "5\n"
          ]
        }
      ]
    },
    {
      "cell_type": "code",
      "source": [
        "def do_sum(x,y,*args):\n",
        "  sum1 = x+y\n",
        "  for i in args:\n",
        "    sum1+=i \n",
        "  return sum1\n",
        "\n",
        "do_sum(3,4,9, 10)"
      ],
      "metadata": {
        "colab": {
          "base_uri": "https://localhost:8080/"
        },
        "id": "LzMyankkernV",
        "outputId": "43011d1c-10cf-44c1-cd9c-3ee573e97a76"
      },
      "execution_count": null,
      "outputs": [
        {
          "output_type": "execute_result",
          "data": {
            "text/plain": [
              "26"
            ]
          },
          "metadata": {},
          "execution_count": 72
        }
      ]
    },
    {
      "cell_type": "markdown",
      "source": [
        "When you want to create a function which can take variable number of argument you can use *args"
      ],
      "metadata": {
        "id": "JsPvOiXAf07z"
      }
    },
    {
      "cell_type": "code",
      "source": [
        "def do_sum(x,y,*somename):\n",
        "  sum1 = x+y\n",
        "  for i in somename:\n",
        "    sum1+=i \n",
        "  return sum1\n",
        "\n",
        "do_sum(3,4,9, 10)"
      ],
      "metadata": {
        "colab": {
          "base_uri": "https://localhost:8080/"
        },
        "id": "nF3d2TpVfl0i",
        "outputId": "631343bc-fe93-4cbb-e958-9de20b73348f"
      },
      "execution_count": null,
      "outputs": [
        {
          "output_type": "execute_result",
          "data": {
            "text/plain": [
              "26"
            ]
          },
          "metadata": {},
          "execution_count": 73
        }
      ]
    },
    {
      "cell_type": "markdown",
      "source": [
        "Kwargs: variable anmed arguments"
      ],
      "metadata": {
        "id": "JmXA0i1ZgPcB"
      }
    },
    {
      "cell_type": "code",
      "source": [
        "def func2(name,age):\n",
        "  print(name)\n",
        "  print(age)\n",
        "\n",
        "func2(\"Joshith\",20)"
      ],
      "metadata": {
        "colab": {
          "base_uri": "https://localhost:8080/"
        },
        "id": "_XG2yvpGgBgl",
        "outputId": "ee38110b-c0ff-4427-d6b2-c940a0dfb386"
      },
      "execution_count": null,
      "outputs": [
        {
          "output_type": "stream",
          "name": "stdout",
          "text": [
            "Joshith\n",
            "20\n"
          ]
        }
      ]
    },
    {
      "cell_type": "code",
      "source": [
        "def func2(name,age, **extra_info):\n",
        "  print(name)\n",
        "  print(age)\n",
        "  #print(extra_info)\n",
        "  #print(extra_info[\"gender\"])\n",
        "  print(extra_info.get(\"gender\",  \"Gender Not Filled\"))\n",
        "\n",
        "func2(\"Joshith\",20, gender= 'Male')"
      ],
      "metadata": {
        "colab": {
          "base_uri": "https://localhost:8080/"
        },
        "id": "jA1bWI-QggUc",
        "outputId": "03c5b850-4893-4770-e31e-82a9afcbd6c7"
      },
      "execution_count": null,
      "outputs": [
        {
          "output_type": "stream",
          "name": "stdout",
          "text": [
            "Joshith\n",
            "20\n",
            "Male\n"
          ]
        }
      ]
    },
    {
      "cell_type": "code",
      "source": [
        "def func2(name,age, **extra_info):\n",
        "  print(name)\n",
        "  print(age)\n",
        "  #print(extra_info)\n",
        "  #print(extra_info[\"gender\"])\n",
        "  print(extra_info.get(\"gender\",  \"Gender Not Filled\"))\n",
        "\n",
        "func2(\"Joshith\",20)"
      ],
      "metadata": {
        "colab": {
          "base_uri": "https://localhost:8080/"
        },
        "id": "ei0IPdPmgu_o",
        "outputId": "bfa2594c-9d77-416a-d695-91f01a40d0d0"
      },
      "execution_count": null,
      "outputs": [
        {
          "output_type": "stream",
          "name": "stdout",
          "text": [
            "Joshith\n",
            "20\n",
            "Gender Not Filled\n"
          ]
        }
      ]
    },
    {
      "cell_type": "code",
      "source": [
        "def func2(name,age, **extra_info):\n",
        "  print(name)\n",
        "  print(age)\n",
        "  print(extra_info)\n",
        "  #print(extra_info[\"gender\"])\n",
        "  print(extra_info.get(\"gender\",  \"Gender Not Filled\"))\n",
        "\n",
        "func2(\"Joshith\",20, gender= \"Male\", pan_number = 124)"
      ],
      "metadata": {
        "colab": {
          "base_uri": "https://localhost:8080/"
        },
        "id": "6OCvgTJRiGSr",
        "outputId": "2b0e93ff-d42e-4b59-d47b-88d8bd54bead"
      },
      "execution_count": null,
      "outputs": [
        {
          "output_type": "stream",
          "name": "stdout",
          "text": [
            "Joshith\n",
            "20\n",
            "{'gender': 'Male', 'pan_number': 124}\n",
            "Male\n"
          ]
        }
      ]
    },
    {
      "cell_type": "markdown",
      "source": [
        "### Extraargs: Keyword argument in form of a dictionary."
      ],
      "metadata": {
        "id": "DCX6BK-Gh_qJ"
      }
    },
    {
      "cell_type": "markdown",
      "source": [],
      "metadata": {
        "id": "DLK3dyzmiXhB"
      }
    },
    {
      "cell_type": "code",
      "source": [
        "def create_person(name, age, gender, **extra_info):\n",
        "    pass\n",
        "    # create output dictionary contanining mandatory as well optional attribute\n",
        "\n",
        "create_person(name = \"Rohit\", age = 1500, gender = \"Male\", color = \"blue\", hobby = \"chess\")"
      ],
      "metadata": {
        "id": "XCbsBxUEh39i"
      },
      "execution_count": null,
      "outputs": []
    },
    {
      "cell_type": "markdown",
      "source": [
        "```\n",
        "{'name': 'Rohit',\n",
        " 'age': 1500,\n",
        " 'gender': 'Male',\n",
        " 'color': 'blue',\n",
        " 'hobby': 'chess'}\n",
        " ```"
      ],
      "metadata": {
        "id": "lC4IKX87iuDO"
      }
    },
    {
      "cell_type": "code",
      "source": [
        "def random(x, y, *args, **kwargs):\n",
        "    print(x)\n",
        "    print(args)\n",
        "    print(kwargs)\n",
        "\n",
        "random(2,3, n=5,m =6)  "
      ],
      "metadata": {
        "colab": {
          "base_uri": "https://localhost:8080/"
        },
        "id": "_BRS8UfeitF4",
        "outputId": "bcfd413d-d6dc-437e-f806-ea7624304d04"
      },
      "execution_count": null,
      "outputs": [
        {
          "output_type": "stream",
          "name": "stdout",
          "text": [
            "2\n",
            "()\n",
            "{'n': 5, 'm': 6}\n"
          ]
        }
      ]
    },
    {
      "cell_type": "code",
      "source": [
        "def random(x, y, *args, **kwargs):\n",
        "    print(x)\n",
        "    print(args)\n",
        "    print(kwargs)\n",
        "\n",
        "random(2,3,5,6, n=5,m =6)  "
      ],
      "metadata": {
        "colab": {
          "base_uri": "https://localhost:8080/"
        },
        "id": "5YNcg0_GjCKC",
        "outputId": "7cc1bf0a-7bbb-4d03-ca66-bf3016be7e5d"
      },
      "execution_count": null,
      "outputs": [
        {
          "output_type": "stream",
          "name": "stdout",
          "text": [
            "2\n",
            "(5, 6)\n",
            "{'n': 5, 'm': 6}\n"
          ]
        }
      ]
    },
    {
      "cell_type": "code",
      "source": [
        "def random(x, y, *args, **kwargs):\n",
        "    print(x)\n",
        "    print(args)\n",
        "    print(kwargs)\n",
        "\n",
        "random(2,3, n=5,m =6, 5,6)  "
      ],
      "metadata": {
        "colab": {
          "base_uri": "https://localhost:8080/",
          "height": 149
        },
        "id": "Fpjx6kyDjJiw",
        "outputId": "c7a26c7a-6791-4c31-ee56-2fec85803fa9"
      },
      "execution_count": null,
      "outputs": [
        {
          "output_type": "error",
          "ename": "SyntaxError",
          "evalue": "ignored",
          "traceback": [
            "\u001b[0;36m  File \u001b[0;32m\"<ipython-input-90-486772088141>\"\u001b[0;36m, line \u001b[0;32m6\u001b[0m\n\u001b[0;31m    random(2,3, n=5,m =6, 5,6)\u001b[0m\n\u001b[0m                          ^\u001b[0m\n\u001b[0;31mSyntaxError\u001b[0m\u001b[0;31m:\u001b[0m positional argument follows keyword argument\n"
          ]
        }
      ]
    },
    {
      "cell_type": "markdown",
      "source": [
        "- Mandatory Arguments-> `*args`-> `**kwargs`"
      ],
      "metadata": {
        "id": "Lqil_Y7GjSfZ"
      }
    },
    {
      "cell_type": "code",
      "source": [],
      "metadata": {
        "id": "lADrzRPcjPJQ"
      },
      "execution_count": null,
      "outputs": []
    },
    {
      "cell_type": "markdown",
      "source": [
        "odd=lambda x: bool(x%2)\n",
        "result=[n for n in range(10)] for i in result:\n",
        "if odd(i):\n",
        "continue\n",
        "else:\n",
        "print(i, end=\" \") please explain the code .. didnt understand how it prints even number .. when print commant is for odd nums"
      ],
      "metadata": {
        "id": "ZhqhN_7skzm4"
      }
    },
    {
      "cell_type": "code",
      "source": [
        "odd=lambda x: bool(x%2)\n",
        "odd(6)"
      ],
      "metadata": {
        "colab": {
          "base_uri": "https://localhost:8080/"
        },
        "id": "V2pXZCIEk2HO",
        "outputId": "a5ee8fa6-84c1-45d4-dcd5-b4e9ccd79dde"
      },
      "execution_count": null,
      "outputs": [
        {
          "output_type": "execute_result",
          "data": {
            "text/plain": [
              "False"
            ]
          },
          "metadata": {},
          "execution_count": 92
        }
      ]
    },
    {
      "cell_type": "code",
      "source": [
        "odd=lambda x: (x%2)\n",
        "\n",
        "result=[n for n in range(10)] \n",
        "for i in result: \n",
        "  if odd(i): \n",
        "    continue \n",
        "  else: \n",
        "    print(i, end=\" \")"
      ],
      "metadata": {
        "colab": {
          "base_uri": "https://localhost:8080/"
        },
        "id": "_oFizZUXk7gz",
        "outputId": "76585cb6-a861-45b5-dd27-5437ad250b3a"
      },
      "execution_count": null,
      "outputs": [
        {
          "output_type": "stream",
          "name": "stdout",
          "text": [
            "0 2 4 6 8 "
          ]
        }
      ]
    },
    {
      "cell_type": "code",
      "source": [
        "(10%2)"
      ],
      "metadata": {
        "colab": {
          "base_uri": "https://localhost:8080/"
        },
        "id": "lDsuqmJSlSJI",
        "outputId": "b3e7844b-ba77-49bb-92d9-e9a61e4f5ca3"
      },
      "execution_count": null,
      "outputs": [
        {
          "output_type": "execute_result",
          "data": {
            "text/plain": [
              "0"
            ]
          },
          "metadata": {},
          "execution_count": 100
        }
      ]
    },
    {
      "cell_type": "code",
      "source": [
        "bool(11%3)"
      ],
      "metadata": {
        "colab": {
          "base_uri": "https://localhost:8080/"
        },
        "id": "g5YP4zCalhIu",
        "outputId": "26fcc8d7-8913-4c33-f3dc-a99432b4e379"
      },
      "execution_count": null,
      "outputs": [
        {
          "output_type": "execute_result",
          "data": {
            "text/plain": [
              "True"
            ]
          },
          "metadata": {},
          "execution_count": 102
        }
      ]
    },
    {
      "cell_type": "code",
      "source": [
        "lambda x: bool(x%2)"
      ],
      "metadata": {
        "id": "VG3c6CQElm8k"
      },
      "execution_count": null,
      "outputs": []
    },
    {
      "cell_type": "code",
      "source": [
        "# start, end =0 ,len(list)-1 # two pointer approach"
      ],
      "metadata": {
        "id": "W-DLIBVOmN64"
      },
      "execution_count": null,
      "outputs": []
    },
    {
      "cell_type": "code",
      "source": [],
      "metadata": {
        "id": "sv3LMCVHmgSj"
      },
      "execution_count": null,
      "outputs": []
    }
  ]
}