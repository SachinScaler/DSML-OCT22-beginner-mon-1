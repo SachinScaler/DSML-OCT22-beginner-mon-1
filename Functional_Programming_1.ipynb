{
  "nbformat": 4,
  "nbformat_minor": 0,
  "metadata": {
    "colab": {
      "provenance": []
    },
    "kernelspec": {
      "name": "python3",
      "display_name": "Python 3"
    },
    "language_info": {
      "name": "python"
    },
    "gpuClass": "standard"
  },
  "cells": [
    {
      "cell_type": "code",
      "execution_count": null,
      "metadata": {
        "id": "WLW-uzDFwM8p"
      },
      "outputs": [],
      "source": [
        "def func():\n",
        "  return \n",
        "func()"
      ]
    },
    {
      "cell_type": "code",
      "source": [
        "class A:\n",
        "  return \n",
        "   \n"
      ],
      "metadata": {
        "colab": {
          "base_uri": "https://localhost:8080/",
          "height": 149
        },
        "id": "W7GEUf8PxqV8",
        "outputId": "b09844e5-4430-47ad-e339-3f0a71ae5706"
      },
      "execution_count": null,
      "outputs": [
        {
          "output_type": "error",
          "ename": "SyntaxError",
          "evalue": "ignored",
          "traceback": [
            "\u001b[0;36m  File \u001b[0;32m\"<ipython-input-6-97c1778821d3>\"\u001b[0;36m, line \u001b[0;32m2\u001b[0m\n\u001b[0;31m    return\u001b[0m\n\u001b[0m    ^\u001b[0m\n\u001b[0;31mSyntaxError\u001b[0m\u001b[0;31m:\u001b[0m 'return' outside function\n"
          ]
        }
      ]
    },
    {
      "cell_type": "code",
      "source": [
        "if True:\n",
        "  pass\n"
      ],
      "metadata": {
        "id": "EGlFvrypx68D"
      },
      "execution_count": null,
      "outputs": []
    },
    {
      "cell_type": "code",
      "source": [
        "class A:\n",
        "    counter= 0\n",
        "    def __init__(self):\n",
        "      self.counter+=1\n",
        "      print(\"New object Created!\")\n",
        "\n",
        "A() # 1 object\n",
        "\n",
        "obj1 = A() # 2 object\n",
        "\n",
        "if A(): # 3rd object\n",
        "    print(A())  #4th Test\n",
        "\n"
      ],
      "metadata": {
        "colab": {
          "base_uri": "https://localhost:8080/"
        },
        "id": "MuXC1d7yyCQY",
        "outputId": "4de7b801-42cf-4cf0-e111-c8b543888029"
      },
      "execution_count": null,
      "outputs": [
        {
          "output_type": "stream",
          "name": "stdout",
          "text": [
            "New object Created!\n",
            "New object Created!\n",
            "New object Created!\n",
            "New object Created!\n",
            "<__main__.A object at 0x7ff174d21d00>\n"
          ]
        }
      ]
    },
    {
      "cell_type": "code",
      "source": [
        "\n",
        "class A:\n",
        "    counter=0 #integer: immutable\n",
        "\n",
        "    def __init__(self):\n",
        "      A.counter+=1\n",
        "\n",
        "A()  # A.counter = 1\n",
        "\n",
        "obj1 = A() # A.counter = 2\n",
        "\n",
        "if A(): # A.counter = 3\n",
        "    print(A.counter)"
      ],
      "metadata": {
        "colab": {
          "base_uri": "https://localhost:8080/"
        },
        "id": "H2qSX6GBz1tL",
        "outputId": "2c64423c-dbe5-4779-f7df-47405b16fecf"
      },
      "execution_count": null,
      "outputs": [
        {
          "output_type": "stream",
          "name": "stdout",
          "text": [
            "3\n"
          ]
        }
      ]
    },
    {
      "cell_type": "code",
      "source": [
        "class A:\n",
        "    counter=5 # integer: immutable\n",
        "    def __init__(self):\n",
        "      self.counter+=1\n",
        "\n",
        "A()  #A.counter = 5, obj.counter = 6\n",
        "\n",
        "obj1 = A() #A.counter = 5, obj1.counter = 6\n",
        "\n",
        "if A(): #A.counter = 5, obj.counter = 6\n",
        "    print(A.counter)"
      ],
      "metadata": {
        "colab": {
          "base_uri": "https://localhost:8080/"
        },
        "id": "CufLyPoP1R4t",
        "outputId": "6d9365cc-7383-4ee1-e872-021cb44470de"
      },
      "execution_count": null,
      "outputs": [
        {
          "output_type": "stream",
          "name": "stdout",
          "text": [
            "5\n"
          ]
        }
      ]
    },
    {
      "cell_type": "code",
      "source": [
        "obj1.counter"
      ],
      "metadata": {
        "colab": {
          "base_uri": "https://localhost:8080/"
        },
        "id": "bgjDFU3t1yvI",
        "outputId": "de882545-6a1d-4cf1-fe0b-3d3a906d9329"
      },
      "execution_count": null,
      "outputs": [
        {
          "output_type": "execute_result",
          "data": {
            "text/plain": [
              "6"
            ]
          },
          "metadata": {},
          "execution_count": 14
        }
      ]
    },
    {
      "cell_type": "code",
      "source": [
        "obj2 = A()\n",
        "obj2.counter"
      ],
      "metadata": {
        "colab": {
          "base_uri": "https://localhost:8080/"
        },
        "id": "Mw_ZRAb310n-",
        "outputId": "e9c63c2a-1c12-4a05-c73d-83b429bfdb7f"
      },
      "execution_count": null,
      "outputs": [
        {
          "output_type": "execute_result",
          "data": {
            "text/plain": [
              "6"
            ]
          },
          "metadata": {},
          "execution_count": 15
        }
      ]
    },
    {
      "cell_type": "code",
      "source": [
        "class A:\n",
        "    counter= []\n",
        "    def __init__(self): # mutable: both self and A will update counter\n",
        "      self.counter.append(1)\n",
        "\n",
        "A()\n",
        "\n",
        "obj1 = A()\n",
        "\n",
        "if A():\n",
        "    print(A.counter)"
      ],
      "metadata": {
        "colab": {
          "base_uri": "https://localhost:8080/"
        },
        "id": "KYsY6gld2UWr",
        "outputId": "2a7ff66c-c4db-423a-f636-38741ccb9198"
      },
      "execution_count": null,
      "outputs": [
        {
          "output_type": "stream",
          "name": "stdout",
          "text": [
            "[1, 1, 1]\n"
          ]
        }
      ]
    },
    {
      "cell_type": "code",
      "source": [
        "class A:\n",
        "    counter= []\n",
        "    def __init__(self):\n",
        "      A.counter.append(1)\n",
        "\n",
        "A()\n",
        "\n",
        "obj1 = A()\n",
        "\n",
        "if A():\n",
        "    print(A.counter)"
      ],
      "metadata": {
        "colab": {
          "base_uri": "https://localhost:8080/"
        },
        "id": "bFgQZIGr3DpQ",
        "outputId": "e8aa05b6-8e24-467f-cbf3-acdd2b1e39e9"
      },
      "execution_count": null,
      "outputs": [
        {
          "output_type": "stream",
          "name": "stdout",
          "text": [
            "[1, 1, 1]\n"
          ]
        }
      ]
    },
    {
      "cell_type": "markdown",
      "source": [
        "in Mutables, new copy isn't created."
      ],
      "metadata": {
        "id": "UT7QH1dh3PJM"
      }
    },
    {
      "cell_type": "code",
      "source": [
        "l1 = list()\n",
        "l1"
      ],
      "metadata": {
        "colab": {
          "base_uri": "https://localhost:8080/"
        },
        "id": "yx30F0Sw3IeR",
        "outputId": "74d6212c-4e74-49ff-dad1-4de3641e5f45"
      },
      "execution_count": null,
      "outputs": [
        {
          "output_type": "execute_result",
          "data": {
            "text/plain": [
              "[]"
            ]
          },
          "metadata": {},
          "execution_count": 19
        }
      ]
    },
    {
      "cell_type": "code",
      "source": [
        "print(type(obj1))"
      ],
      "metadata": {
        "colab": {
          "base_uri": "https://localhost:8080/"
        },
        "id": "wW0-FAq_4Ejr",
        "outputId": "fef56b1d-efd3-48a2-b076-988b906074aa"
      },
      "execution_count": null,
      "outputs": [
        {
          "output_type": "stream",
          "name": "stdout",
          "text": [
            "<class '__main__.A'>\n"
          ]
        }
      ]
    },
    {
      "cell_type": "code",
      "source": [
        "print(type(l1))"
      ],
      "metadata": {
        "colab": {
          "base_uri": "https://localhost:8080/"
        },
        "id": "WHy2IRAC4dpy",
        "outputId": "7f218d42-706d-4a15-d430-e90d3463790a"
      },
      "execution_count": null,
      "outputs": [
        {
          "output_type": "stream",
          "name": "stdout",
          "text": [
            "<class 'list'>\n"
          ]
        }
      ]
    },
    {
      "cell_type": "markdown",
      "source": [
        "Functional Programming:\n",
        " - Lambda functions"
      ],
      "metadata": {
        "id": "jEz-8YNo7Fij"
      }
    },
    {
      "cell_type": "code",
      "source": [
        "def square(x):\n",
        "  return x**2\n",
        "square(3)"
      ],
      "metadata": {
        "colab": {
          "base_uri": "https://localhost:8080/"
        },
        "id": "BeLszp3d4iVE",
        "outputId": "40a21ab0-5fc3-437d-b06b-c0e3a63ed613"
      },
      "execution_count": null,
      "outputs": [
        {
          "output_type": "execute_result",
          "data": {
            "text/plain": [
              "9"
            ]
          },
          "metadata": {},
          "execution_count": 24
        }
      ]
    },
    {
      "cell_type": "code",
      "source": [
        "(lambda x : x**2)(3)"
      ],
      "metadata": {
        "colab": {
          "base_uri": "https://localhost:8080/"
        },
        "id": "xO3TpsCL7PPa",
        "outputId": "1c53cbfd-4be0-45b6-c394-c4823dc71999"
      },
      "execution_count": null,
      "outputs": [
        {
          "output_type": "execute_result",
          "data": {
            "text/plain": [
              "9"
            ]
          },
          "metadata": {},
          "execution_count": 25
        }
      ]
    },
    {
      "cell_type": "code",
      "source": [
        "(lambda a : a**2)(4)"
      ],
      "metadata": {
        "colab": {
          "base_uri": "https://localhost:8080/"
        },
        "id": "HJ-cOkHs7V_3",
        "outputId": "8c43d24a-0e8d-40e7-99e8-455b4a5db866"
      },
      "execution_count": null,
      "outputs": [
        {
          "output_type": "execute_result",
          "data": {
            "text/plain": [
              "16"
            ]
          },
          "metadata": {},
          "execution_count": 26
        }
      ]
    },
    {
      "cell_type": "code",
      "source": [
        "# anonymous function\n",
        "(lambda a : a**2)(10)"
      ],
      "metadata": {
        "colab": {
          "base_uri": "https://localhost:8080/"
        },
        "id": "P6ETK3SU7fzs",
        "outputId": "f7a8e5be-6ad9-4f86-f4dd-dff4ef3971d3"
      },
      "execution_count": null,
      "outputs": [
        {
          "output_type": "execute_result",
          "data": {
            "text/plain": [
              "100"
            ]
          },
          "metadata": {},
          "execution_count": 27
        }
      ]
    },
    {
      "cell_type": "code",
      "source": [
        "s1 = lambda a : a**2"
      ],
      "metadata": {
        "id": "ZuvFmhjE7rPE"
      },
      "execution_count": null,
      "outputs": []
    },
    {
      "cell_type": "code",
      "source": [
        "s1(3)"
      ],
      "metadata": {
        "colab": {
          "base_uri": "https://localhost:8080/"
        },
        "id": "4MJsjB-B7_jB",
        "outputId": "ef6b5f66-8ebb-4f42-da5e-f15d2c278b6c"
      },
      "execution_count": null,
      "outputs": [
        {
          "output_type": "execute_result",
          "data": {
            "text/plain": [
              "9"
            ]
          },
          "metadata": {},
          "execution_count": 29
        }
      ]
    },
    {
      "cell_type": "code",
      "source": [
        "s1(10)"
      ],
      "metadata": {
        "colab": {
          "base_uri": "https://localhost:8080/"
        },
        "id": "_rrRKmpu8Ald",
        "outputId": "21acfbaa-91ba-491e-af54-dc32edc27ee5"
      },
      "execution_count": null,
      "outputs": [
        {
          "output_type": "execute_result",
          "data": {
            "text/plain": [
              "100"
            ]
          },
          "metadata": {},
          "execution_count": 30
        }
      ]
    },
    {
      "cell_type": "code",
      "source": [
        "print(type(s1))"
      ],
      "metadata": {
        "colab": {
          "base_uri": "https://localhost:8080/"
        },
        "id": "VWxx_71z8pzA",
        "outputId": "6a44e633-2eb1-4ce3-dfc5-9be9d9d78b7b"
      },
      "execution_count": null,
      "outputs": [
        {
          "output_type": "stream",
          "name": "stdout",
          "text": [
            "<class 'function'>\n"
          ]
        }
      ]
    },
    {
      "cell_type": "code",
      "source": [
        "'''\n",
        "def some_func(x):\n",
        "  if x>5:\n",
        "    return x\n",
        "  else:\n",
        "    return x+5\n",
        "'''\n",
        "\n",
        "\n",
        "(lambda x: x if x>5 else x+10)(10)\n"
      ],
      "metadata": {
        "colab": {
          "base_uri": "https://localhost:8080/"
        },
        "id": "A-ale0RV8CSS",
        "outputId": "0af75645-93f2-44dd-b3e1-926f71122738"
      },
      "execution_count": null,
      "outputs": [
        {
          "output_type": "execute_result",
          "data": {
            "text/plain": [
              "10"
            ]
          },
          "metadata": {},
          "execution_count": 33
        }
      ]
    },
    {
      "cell_type": "code",
      "source": [
        "(lambda x: x if x>5 else x+10)(3)"
      ],
      "metadata": {
        "colab": {
          "base_uri": "https://localhost:8080/"
        },
        "id": "5xOyj7r9886b",
        "outputId": "dae69427-b4b3-46f6-96da-65b5662fdf59"
      },
      "execution_count": null,
      "outputs": [
        {
          "output_type": "execute_result",
          "data": {
            "text/plain": [
              "13"
            ]
          },
          "metadata": {},
          "execution_count": 34
        }
      ]
    },
    {
      "cell_type": "code",
      "source": [
        "'''\n",
        "def some_func(x):\n",
        "  if x>5:\n",
        "    return x\n",
        "  elif x> 10:\n",
        "    return x+10\n",
        "  else:\n",
        "    return x+20\n",
        "'''\n",
        "\n",
        "\n",
        "(lambda x: x if x<5 else x+10 if x>10 else x+20)(11)\n"
      ],
      "metadata": {
        "colab": {
          "base_uri": "https://localhost:8080/"
        },
        "id": "oqBhnwfn8_C9",
        "outputId": "b144fcd9-50ea-4c5b-fa1e-4d1fd1e21c46"
      },
      "execution_count": null,
      "outputs": [
        {
          "output_type": "execute_result",
          "data": {
            "text/plain": [
              "21"
            ]
          },
          "metadata": {},
          "execution_count": 37
        }
      ]
    },
    {
      "cell_type": "markdown",
      "source": [
        "Homework:"
      ],
      "metadata": {
        "id": "MQwwjjTm-ZOo"
      }
    },
    {
      "cell_type": "code",
      "source": [
        "'''\n",
        "def some_func(x):\n",
        "  if x%2==0:\n",
        "    return \"Even\"\n",
        "  elif x%2!=0:\n",
        "    return \"Odd\"\n",
        "  \n",
        "'''\n",
        "\n",
        "\n"
      ],
      "metadata": {
        "id": "AFVYhvYB-YWL"
      },
      "execution_count": null,
      "outputs": []
    },
    {
      "cell_type": "code",
      "source": [
        "'''\n",
        "def some_func(x):\n",
        "  if x<5:\n",
        "    return x+5\n",
        "  elif x<10:\n",
        "    return x+10\n",
        "  elif x<20:\n",
        "    return x+20\n",
        "  else:\n",
        "    return \"Invalid Number\"\n",
        "'''"
      ],
      "metadata": {
        "id": "C-3QRU3X9u9O"
      },
      "execution_count": null,
      "outputs": []
    },
    {
      "cell_type": "markdown",
      "source": [
        "- Multiple Arguments"
      ],
      "metadata": {
        "id": "ysFAcwWl_Xit"
      }
    },
    {
      "cell_type": "code",
      "source": [
        "(lambda x,y: x+y)(2,3)"
      ],
      "metadata": {
        "colab": {
          "base_uri": "https://localhost:8080/"
        },
        "id": "cCQ5M5bH_SZe",
        "outputId": "52a07ee6-0871-401d-c272-3df555ec383e"
      },
      "execution_count": null,
      "outputs": [
        {
          "output_type": "execute_result",
          "data": {
            "text/plain": [
              "5"
            ]
          },
          "metadata": {},
          "execution_count": 38
        }
      ]
    },
    {
      "cell_type": "code",
      "source": [
        "muliply_nums = (lambda x,y: x*y)"
      ],
      "metadata": {
        "id": "riuDAWrs_sEl"
      },
      "execution_count": null,
      "outputs": []
    },
    {
      "cell_type": "code",
      "source": [
        "muliply_nums(4,5)"
      ],
      "metadata": {
        "colab": {
          "base_uri": "https://localhost:8080/"
        },
        "id": "bzC1T3fZ_xgs",
        "outputId": "4d3faa28-4f42-4057-f064-782e1e7c6117"
      },
      "execution_count": null,
      "outputs": [
        {
          "output_type": "execute_result",
          "data": {
            "text/plain": [
              "20"
            ]
          },
          "metadata": {},
          "execution_count": 40
        }
      ]
    },
    {
      "cell_type": "code",
      "source": [
        "muliply_nums(6,5)"
      ],
      "metadata": {
        "colab": {
          "base_uri": "https://localhost:8080/"
        },
        "id": "Niu2tVfL_zJT",
        "outputId": "845bdb91-7f40-4776-9cd3-345a83ce1018"
      },
      "execution_count": null,
      "outputs": [
        {
          "output_type": "execute_result",
          "data": {
            "text/plain": [
              "30"
            ]
          },
          "metadata": {},
          "execution_count": 42
        }
      ]
    },
    {
      "cell_type": "code",
      "source": [
        "(lambda x,y: [x*y, x+y])(2,3)"
      ],
      "metadata": {
        "colab": {
          "base_uri": "https://localhost:8080/"
        },
        "id": "RFFIcEfv_0VX",
        "outputId": "97562a28-856c-4f50-e3db-591b4f6dab0d"
      },
      "execution_count": null,
      "outputs": [
        {
          "output_type": "execute_result",
          "data": {
            "text/plain": [
              "[6, 5]"
            ]
          },
          "metadata": {},
          "execution_count": 45
        }
      ]
    },
    {
      "cell_type": "code",
      "source": [
        "(lambda x: \"Hello \" + x)(\"World\")"
      ],
      "metadata": {
        "colab": {
          "base_uri": "https://localhost:8080/",
          "height": 58
        },
        "id": "kbJzoxZy_9EE",
        "outputId": "a5b01e95-b920-4fbb-d7a7-040988d60224"
      },
      "execution_count": null,
      "outputs": [
        {
          "output_type": "execute_result",
          "data": {
            "text/plain": [
              "'Hello World'"
            ],
            "application/vnd.google.colaboratory.intrinsic+json": {
              "type": "string"
            }
          },
          "metadata": {},
          "execution_count": 47
        }
      ]
    },
    {
      "cell_type": "markdown",
      "source": [
        "### Lambda function application:"
      ],
      "metadata": {
        "id": "RXrywtpwC6yY"
      }
    },
    {
      "cell_type": "code",
      "source": [
        "list1 = [\n",
        "    [11,91,3],\n",
        "    [3,4,5],\n",
        "    [56,89,90]]\n",
        "\n"
      ],
      "metadata": {
        "id": "xGPrsNIoAPS8"
      },
      "execution_count": null,
      "outputs": []
    },
    {
      "cell_type": "code",
      "source": [
        "sorted(list1)"
      ],
      "metadata": {
        "colab": {
          "base_uri": "https://localhost:8080/"
        },
        "id": "XhiYm2OUDHNH",
        "outputId": "d88dfd60-409e-403f-8663-c7d595ef9f8b"
      },
      "execution_count": null,
      "outputs": [
        {
          "output_type": "execute_result",
          "data": {
            "text/plain": [
              "[[3, 4, 5], [11, 91, 3], [56, 89, 90]]"
            ]
          },
          "metadata": {},
          "execution_count": 51
        }
      ]
    },
    {
      "cell_type": "code",
      "source": [
        "sorted(list1, key = lambda x:x[1])"
      ],
      "metadata": {
        "colab": {
          "base_uri": "https://localhost:8080/"
        },
        "id": "C_UYvOIBDTe-",
        "outputId": "3bc15d59-2b42-4bd1-cbe2-7a4fd890decc"
      },
      "execution_count": null,
      "outputs": [
        {
          "output_type": "execute_result",
          "data": {
            "text/plain": [
              "[[3, 4, 5], [56, 89, 90], [11, 91, 3]]"
            ]
          },
          "metadata": {},
          "execution_count": 52
        }
      ]
    },
    {
      "cell_type": "code",
      "source": [
        "sorted(list1, key = lambda x:x[2])"
      ],
      "metadata": {
        "colab": {
          "base_uri": "https://localhost:8080/"
        },
        "id": "-6-wYCFzDu2e",
        "outputId": "33aac9c3-86bb-41e0-f5d3-c83faa60e24b"
      },
      "execution_count": null,
      "outputs": [
        {
          "output_type": "execute_result",
          "data": {
            "text/plain": [
              "[[11, 91, 3], [3, 4, 5], [56, 89, 90]]"
            ]
          },
          "metadata": {},
          "execution_count": 53
        }
      ]
    },
    {
      "cell_type": "code",
      "source": [
        "def func(x):\n",
        "  return x[1]\n",
        "\n",
        "sorted(list1, key = func)"
      ],
      "metadata": {
        "colab": {
          "base_uri": "https://localhost:8080/"
        },
        "id": "hfsFLQt_EBPW",
        "outputId": "fb6673e5-a504-47d5-d97a-ba73aeacb020"
      },
      "execution_count": null,
      "outputs": [
        {
          "output_type": "execute_result",
          "data": {
            "text/plain": [
              "[[3, 4, 5], [56, 89, 90], [11, 91, 3]]"
            ]
          },
          "metadata": {},
          "execution_count": 54
        }
      ]
    },
    {
      "cell_type": "code",
      "source": [
        "sorted(list1, key = func, reverse = True) # sorted(list1, key = lambda x : x[1], reverse = True)"
      ],
      "metadata": {
        "colab": {
          "base_uri": "https://localhost:8080/"
        },
        "id": "0PAUdMrGEIKJ",
        "outputId": "0e2afeed-f5e6-4c95-d8aa-71fbdbc60be0"
      },
      "execution_count": null,
      "outputs": [
        {
          "output_type": "execute_result",
          "data": {
            "text/plain": [
              "[[11, 91, 3], [56, 89, 90], [3, 4, 5]]"
            ]
          },
          "metadata": {},
          "execution_count": 55
        }
      ]
    },
    {
      "cell_type": "code",
      "source": [
        "sorted?"
      ],
      "metadata": {
        "id": "Dt4lLfnUEX2j"
      },
      "execution_count": null,
      "outputs": []
    },
    {
      "cell_type": "code",
      "source": [
        "dict1 = {\"Umesh\": 20,\"John\": 30, \"Rhythm\": 35,\"Vineet\": 40,\"Anup\": 50 }\n",
        "dict1"
      ],
      "metadata": {
        "colab": {
          "base_uri": "https://localhost:8080/"
        },
        "id": "MBoHlRy_Edy5",
        "outputId": "2e83d819-7b61-4798-9009-eefa228e03bf"
      },
      "execution_count": null,
      "outputs": [
        {
          "output_type": "execute_result",
          "data": {
            "text/plain": [
              "{'Umesh': 20, 'John': 30, 'Rhythm': 35, 'Vineet': 40, 'Anup': 50}"
            ]
          },
          "metadata": {},
          "execution_count": 59
        }
      ]
    },
    {
      "cell_type": "code",
      "source": [
        "(list(dict1.items()))"
      ],
      "metadata": {
        "colab": {
          "base_uri": "https://localhost:8080/"
        },
        "id": "lfhebyZ-FD4d",
        "outputId": "e0d205fb-97b3-4ff7-d102-647fc151a1e2"
      },
      "execution_count": null,
      "outputs": [
        {
          "output_type": "execute_result",
          "data": {
            "text/plain": [
              "[('Umesh', 20), ('John', 30), ('Rhythm', 35), ('Vineet', 40), ('Anup', 50)]"
            ]
          },
          "metadata": {},
          "execution_count": 69
        }
      ]
    },
    {
      "cell_type": "code",
      "source": [
        "sorted(list(dict1.items()))"
      ],
      "metadata": {
        "id": "Ick6ZI0cGT_o"
      },
      "execution_count": null,
      "outputs": []
    },
    {
      "cell_type": "code",
      "source": [
        "lot = list(dict1.items())\n",
        "sorted(lot, key = lambda x: x[1], reverse = True )"
      ],
      "metadata": {
        "colab": {
          "base_uri": "https://localhost:8080/"
        },
        "id": "CX9ttSFPFU1U",
        "outputId": "e95c74c9-936e-4cb9-fa70-d29c09f8b218"
      },
      "execution_count": null,
      "outputs": [
        {
          "output_type": "execute_result",
          "data": {
            "text/plain": [
              "[('Anup', 50), ('Vineet', 40), ('Rhythm', 35), ('John', 30), ('Umesh', 20)]"
            ]
          },
          "metadata": {},
          "execution_count": 66
        }
      ]
    },
    {
      "cell_type": "code",
      "source": [
        "output_dict = dict(sorted(list(dict1.items()), key = lambda x: x[1], reverse = True ))\n",
        "print(output_dict)"
      ],
      "metadata": {
        "colab": {
          "base_uri": "https://localhost:8080/"
        },
        "id": "ynRWvfJSF4O0",
        "outputId": "ab3234ad-4c14-4dee-c1df-aa059971ccf6"
      },
      "execution_count": null,
      "outputs": [
        {
          "output_type": "stream",
          "name": "stdout",
          "text": [
            "{'Anup': 50, 'Vineet': 40, 'Rhythm': 35, 'John': 30, 'Umesh': 20}\n"
          ]
        }
      ]
    },
    {
      "cell_type": "code",
      "source": [
        "# sorted(dict1, key = lambda x:x[1])"
      ],
      "metadata": {
        "id": "zl61dE_VGDZx"
      },
      "execution_count": null,
      "outputs": []
    },
    {
      "cell_type": "code",
      "source": [
        "students = [\n",
        "    {\"name\": \"Vineet\", \"marks\": 100},\n",
        "    {\"name\": \"Rhythm\", \"marks\": 75},\n",
        "    {\"name\": \"John\", \"marks\": 40},\n",
        "    {\"name\": \"Umesh\", \"marks\": 70},\n",
        "    {\"name\": \"Siddesh\", \"marks\": 60},\n",
        "]\n",
        "\n",
        "\n",
        "sorted(students )"
      ],
      "metadata": {
        "colab": {
          "base_uri": "https://localhost:8080/",
          "height": 215
        },
        "id": "eLJxYQF2GlmE",
        "outputId": "1cfe72cb-fe1b-4966-8f62-fb437b5460fc"
      },
      "execution_count": null,
      "outputs": [
        {
          "output_type": "error",
          "ename": "TypeError",
          "evalue": "ignored",
          "traceback": [
            "\u001b[0;31m---------------------------------------------------------------------------\u001b[0m",
            "\u001b[0;31mTypeError\u001b[0m                                 Traceback (most recent call last)",
            "\u001b[0;32m<ipython-input-77-9eee59a38a9b>\u001b[0m in \u001b[0;36m<module>\u001b[0;34m\u001b[0m\n\u001b[1;32m      8\u001b[0m \u001b[0;34m\u001b[0m\u001b[0m\n\u001b[1;32m      9\u001b[0m \u001b[0;34m\u001b[0m\u001b[0m\n\u001b[0;32m---> 10\u001b[0;31m \u001b[0msorted\u001b[0m\u001b[0;34m(\u001b[0m\u001b[0mstudents\u001b[0m \u001b[0;34m)\u001b[0m\u001b[0;34m\u001b[0m\u001b[0;34m\u001b[0m\u001b[0m\n\u001b[0m",
            "\u001b[0;31mTypeError\u001b[0m: '<' not supported between instances of 'dict' and 'dict'"
          ]
        }
      ]
    },
    {
      "cell_type": "code",
      "source": [
        "{\"name\": \"Vineet\", \"marks\": 100}>{\"name\": \"Rhythm\", \"marks\": 75}"
      ],
      "metadata": {
        "colab": {
          "base_uri": "https://localhost:8080/",
          "height": 182
        },
        "id": "xYsudYWXHki9",
        "outputId": "bcc4d4af-ff00-4301-ede5-71217fef1c6e"
      },
      "execution_count": null,
      "outputs": [
        {
          "output_type": "error",
          "ename": "TypeError",
          "evalue": "ignored",
          "traceback": [
            "\u001b[0;31m---------------------------------------------------------------------------\u001b[0m",
            "\u001b[0;31mTypeError\u001b[0m                                 Traceback (most recent call last)",
            "\u001b[0;32m<ipython-input-74-c9df0f0a1c59>\u001b[0m in \u001b[0;36m<module>\u001b[0;34m\u001b[0m\n\u001b[0;32m----> 1\u001b[0;31m \u001b[0;34m{\u001b[0m\u001b[0;34m\"name\"\u001b[0m\u001b[0;34m:\u001b[0m \u001b[0;34m\"Vineet\"\u001b[0m\u001b[0;34m,\u001b[0m \u001b[0;34m\"marks\"\u001b[0m\u001b[0;34m:\u001b[0m \u001b[0;36m100\u001b[0m\u001b[0;34m}\u001b[0m\u001b[0;34m>\u001b[0m\u001b[0;34m{\u001b[0m\u001b[0;34m\"name\"\u001b[0m\u001b[0;34m:\u001b[0m \u001b[0;34m\"Rhythm\"\u001b[0m\u001b[0;34m,\u001b[0m \u001b[0;34m\"marks\"\u001b[0m\u001b[0;34m:\u001b[0m \u001b[0;36m75\u001b[0m\u001b[0;34m}\u001b[0m\u001b[0;34m\u001b[0m\u001b[0;34m\u001b[0m\u001b[0m\n\u001b[0m",
            "\u001b[0;31mTypeError\u001b[0m: '>' not supported between instances of 'dict' and 'dict'"
          ]
        }
      ]
    },
    {
      "cell_type": "code",
      "source": [
        "students = [\n",
        "    {\"name\": \"Vineet\", \"marks\": 100},\n",
        "    {\"name\": \"Rhythm\", \"marks\": 75},\n",
        "    {\"name\": \"John\", \"marks\": 40},\n",
        "    {\"name\": \"Umesh\", \"marks\": 70},\n",
        "    {\"name\": \"Siddesh\", \"marks\": 60},\n",
        "]\n",
        "\n",
        "\n",
        "sorted(students, key = lambda x : x['marks'] )"
      ],
      "metadata": {
        "colab": {
          "base_uri": "https://localhost:8080/"
        },
        "id": "4GyzQKo5H9e3",
        "outputId": "0f2d7c74-1c11-4ce8-f7ce-4b6b41eb5d2b"
      },
      "execution_count": null,
      "outputs": [
        {
          "output_type": "execute_result",
          "data": {
            "text/plain": [
              "[{'name': 'John', 'marks': 40},\n",
              " {'name': 'Siddesh', 'marks': 60},\n",
              " {'name': 'Umesh', 'marks': 70},\n",
              " {'name': 'Rhythm', 'marks': 75},\n",
              " {'name': 'Vineet', 'marks': 100}]"
            ]
          },
          "metadata": {},
          "execution_count": 80
        }
      ]
    },
    {
      "cell_type": "code",
      "source": [],
      "metadata": {
        "id": "o8TwdEGPHmX7"
      },
      "execution_count": null,
      "outputs": []
    },
    {
      "cell_type": "markdown",
      "source": [
        "### Higher Order Functions:\n",
        "- Defination: A function that returns a function"
      ],
      "metadata": {
        "id": "rcI5ZpZvIcgX"
      }
    },
    {
      "cell_type": "code",
      "source": [
        "def hots():\n",
        "  def print_hello():\n",
        "    print(\"Hello World\")\n",
        "  return print_hello\n",
        "\n",
        "a = hots()\n",
        "print(a)"
      ],
      "metadata": {
        "colab": {
          "base_uri": "https://localhost:8080/"
        },
        "id": "bdt-k7kbIeed",
        "outputId": "903cfa9f-2e86-4c26-a5bd-c72d8b04217e"
      },
      "execution_count": null,
      "outputs": [
        {
          "output_type": "stream",
          "name": "stdout",
          "text": [
            "<function hots.<locals>.print_hello at 0x7ff15805dee0>\n"
          ]
        }
      ]
    },
    {
      "cell_type": "code",
      "source": [
        "a()"
      ],
      "metadata": {
        "colab": {
          "base_uri": "https://localhost:8080/"
        },
        "id": "UieG-92BI46h",
        "outputId": "d58bd45b-19a9-49f3-a138-1477e2bae400"
      },
      "execution_count": null,
      "outputs": [
        {
          "output_type": "stream",
          "name": "stdout",
          "text": [
            "Hello World\n"
          ]
        }
      ]
    },
    {
      "cell_type": "code",
      "source": [
        "b = hots()\n",
        "b()"
      ],
      "metadata": {
        "colab": {
          "base_uri": "https://localhost:8080/"
        },
        "id": "qLRMwc3DJIAI",
        "outputId": "e2da9adb-7a62-408a-9d53-38aab606c804"
      },
      "execution_count": null,
      "outputs": [
        {
          "output_type": "stream",
          "name": "stdout",
          "text": [
            "Hello World\n"
          ]
        }
      ]
    },
    {
      "cell_type": "code",
      "source": [
        "def gen_exp(n):\n",
        "  def exp(x):\n",
        "    return x**n\n",
        "  return exp\n",
        "\n",
        "e_2 = gen_exp(2)\n"
      ],
      "metadata": {
        "id": "xgnd1m95Jdm7"
      },
      "execution_count": null,
      "outputs": []
    },
    {
      "cell_type": "code",
      "source": [
        "e_2(3)"
      ],
      "metadata": {
        "colab": {
          "base_uri": "https://localhost:8080/"
        },
        "id": "NwGj_0QEMB9m",
        "outputId": "22e9216e-eaf5-40e8-bbf7-4501e9ac30c9"
      },
      "execution_count": null,
      "outputs": [
        {
          "output_type": "execute_result",
          "data": {
            "text/plain": [
              "9"
            ]
          },
          "metadata": {},
          "execution_count": 86
        }
      ]
    },
    {
      "cell_type": "code",
      "source": [
        "e_2(10)"
      ],
      "metadata": {
        "colab": {
          "base_uri": "https://localhost:8080/"
        },
        "id": "4pPgTwv7MDkP",
        "outputId": "e0eb3694-18fb-4e88-d0a0-399c0795d26e"
      },
      "execution_count": null,
      "outputs": [
        {
          "output_type": "execute_result",
          "data": {
            "text/plain": [
              "100"
            ]
          },
          "metadata": {},
          "execution_count": 87
        }
      ]
    },
    {
      "cell_type": "code",
      "source": [
        "# def exp(x, n):\n",
        "#     return x**n\n",
        "# exp(2, 5)"
      ],
      "metadata": {
        "colab": {
          "base_uri": "https://localhost:8080/"
        },
        "id": "prfDteWlMFhc",
        "outputId": "e97e562c-eb56-42a2-8ff7-5791e237a856"
      },
      "execution_count": null,
      "outputs": [
        {
          "output_type": "execute_result",
          "data": {
            "text/plain": [
              "32"
            ]
          },
          "metadata": {},
          "execution_count": 88
        }
      ]
    },
    {
      "cell_type": "code",
      "source": [
        "e_5 = gen_exp(5)\n",
        "e_5(10)"
      ],
      "metadata": {
        "colab": {
          "base_uri": "https://localhost:8080/"
        },
        "id": "Az61AuVvMOO9",
        "outputId": "43603a30-0d87-4850-e24f-9f274abfd933"
      },
      "execution_count": null,
      "outputs": [
        {
          "output_type": "execute_result",
          "data": {
            "text/plain": [
              "100000"
            ]
          },
          "metadata": {},
          "execution_count": 89
        }
      ]
    },
    {
      "cell_type": "code",
      "source": [
        "'''\n",
        " def exp_10(x):\n",
        "     return x**10\n",
        " exp_10(2)\n",
        "\n",
        "or \n",
        "\n",
        "e_10 = gen_exp(10)\n",
        "'''"
      ],
      "metadata": {
        "colab": {
          "base_uri": "https://localhost:8080/",
          "height": 58
        },
        "id": "IIiMfpixMXgL",
        "outputId": "74759359-c9d5-44a6-e862-c967c421acea"
      },
      "execution_count": null,
      "outputs": [
        {
          "output_type": "execute_result",
          "data": {
            "text/plain": [
              "'\\n def exp_10(x):\\n     return x**10\\n exp_10(2)\\n\\nor \\n\\ne_10 = gen_exp(10)\\n'"
            ],
            "application/vnd.google.colaboratory.intrinsic+json": {
              "type": "string"
            }
          },
          "metadata": {},
          "execution_count": 90
        }
      ]
    },
    {
      "cell_type": "markdown",
      "source": [
        "### Create a HOF which generates functions to add an agument N"
      ],
      "metadata": {
        "id": "j1JtMtIyNdDP"
      }
    },
    {
      "cell_type": "code",
      "source": [],
      "metadata": {
        "id": "Vm2SGLSoNchA"
      },
      "execution_count": null,
      "outputs": []
    },
    {
      "cell_type": "code",
      "source": [],
      "metadata": {
        "id": "AQ6bQ8RgNYlI"
      },
      "execution_count": null,
      "outputs": []
    },
    {
      "cell_type": "markdown",
      "source": [
        "### Next Session: Decorator"
      ],
      "metadata": {
        "id": "PcS7upkrM4DF"
      }
    },
    {
      "cell_type": "code",
      "source": [
        "10*20"
      ],
      "metadata": {
        "colab": {
          "base_uri": "https://localhost:8080/"
        },
        "id": "Yt0xrzIiMykB",
        "outputId": "eba82e95-ac08-47e6-ac17-a6baede870aa"
      },
      "execution_count": null,
      "outputs": [
        {
          "output_type": "execute_result",
          "data": {
            "text/plain": [
              "200"
            ]
          },
          "metadata": {},
          "execution_count": 91
        }
      ]
    },
    {
      "cell_type": "code",
      "source": [
        "class A:\n",
        "  pass\n",
        "\n",
        "a = A()\n",
        "A()"
      ],
      "metadata": {
        "colab": {
          "base_uri": "https://localhost:8080/"
        },
        "id": "7WmcWBGAPuTL",
        "outputId": "1b45a194-1ff6-42b9-f90e-dd9b5d8441de"
      },
      "execution_count": null,
      "outputs": [
        {
          "output_type": "execute_result",
          "data": {
            "text/plain": [
              "<__main__.A at 0x7ff1580420a0>"
            ]
          },
          "metadata": {},
          "execution_count": 92
        }
      ]
    },
    {
      "cell_type": "code",
      "source": [],
      "metadata": {
        "id": "yrYZTMoBP8oX"
      },
      "execution_count": null,
      "outputs": []
    },
    {
      "cell_type": "markdown",
      "source": [
        "# recusion"
      ],
      "metadata": {
        "id": "q5IziYqmSJXM"
      }
    },
    {
      "cell_type": "code",
      "source": [
        "# achieved recursion\n",
        "\n",
        "'''\n",
        "def func(x):\n",
        "  return func(x)\n",
        "'''\n",
        "a = lambda x:  a(x)"
      ],
      "metadata": {
        "id": "_xXl9RC_SKjn"
      },
      "execution_count": null,
      "outputs": []
    },
    {
      "cell_type": "code",
      "source": [
        "a(1)"
      ],
      "metadata": {
        "colab": {
          "base_uri": "https://localhost:8080/",
          "height": 305
        },
        "id": "8b20OUplSPTV",
        "outputId": "63f00ede-f551-4989-cbe9-928453f52268"
      },
      "execution_count": null,
      "outputs": [
        {
          "output_type": "error",
          "ename": "RecursionError",
          "evalue": "ignored",
          "traceback": [
            "\u001b[0;31m---------------------------------------------------------------------------\u001b[0m",
            "\u001b[0;31mRecursionError\u001b[0m                            Traceback (most recent call last)",
            "\u001b[0;32m<ipython-input-102-5645faaf81f3>\u001b[0m in \u001b[0;36m<module>\u001b[0;34m\u001b[0m\n\u001b[0;32m----> 1\u001b[0;31m \u001b[0ma\u001b[0m\u001b[0;34m(\u001b[0m\u001b[0;36m1\u001b[0m\u001b[0;34m)\u001b[0m\u001b[0;34m\u001b[0m\u001b[0;34m\u001b[0m\u001b[0m\n\u001b[0m",
            "\u001b[0;32m<ipython-input-101-e6aea4d6c986>\u001b[0m in \u001b[0;36m<lambda>\u001b[0;34m(x)\u001b[0m\n\u001b[1;32m      1\u001b[0m \u001b[0;31m# achieved rucursion\u001b[0m\u001b[0;34m\u001b[0m\u001b[0;34m\u001b[0m\u001b[0;34m\u001b[0m\u001b[0m\n\u001b[0;32m----> 2\u001b[0;31m \u001b[0ma\u001b[0m \u001b[0;34m=\u001b[0m \u001b[0;32mlambda\u001b[0m \u001b[0mx\u001b[0m\u001b[0;34m:\u001b[0m  \u001b[0ma\u001b[0m\u001b[0;34m(\u001b[0m\u001b[0mx\u001b[0m\u001b[0;34m)\u001b[0m\u001b[0;34m\u001b[0m\u001b[0;34m\u001b[0m\u001b[0m\n\u001b[0m",
            "... last 1 frames repeated, from the frame below ...\n",
            "\u001b[0;32m<ipython-input-101-e6aea4d6c986>\u001b[0m in \u001b[0;36m<lambda>\u001b[0;34m(x)\u001b[0m\n\u001b[1;32m      1\u001b[0m \u001b[0;31m# achieved rucursion\u001b[0m\u001b[0;34m\u001b[0m\u001b[0;34m\u001b[0m\u001b[0;34m\u001b[0m\u001b[0m\n\u001b[0;32m----> 2\u001b[0;31m \u001b[0ma\u001b[0m \u001b[0;34m=\u001b[0m \u001b[0;32mlambda\u001b[0m \u001b[0mx\u001b[0m\u001b[0;34m:\u001b[0m  \u001b[0ma\u001b[0m\u001b[0;34m(\u001b[0m\u001b[0mx\u001b[0m\u001b[0;34m)\u001b[0m\u001b[0;34m\u001b[0m\u001b[0;34m\u001b[0m\u001b[0m\n\u001b[0m",
            "\u001b[0;31mRecursionError\u001b[0m: maximum recursion depth exceeded"
          ]
        }
      ]
    },
    {
      "cell_type": "code",
      "source": [
        "fact = lambda x:  x*fact(x-1) if x>=1 else 1\n",
        "fact(6)"
      ],
      "metadata": {
        "colab": {
          "base_uri": "https://localhost:8080/"
        },
        "id": "XDT_mPs8SRQ_",
        "outputId": "12391a8e-9747-4c53-f82d-ad5042969404"
      },
      "execution_count": null,
      "outputs": [
        {
          "output_type": "execute_result",
          "data": {
            "text/plain": [
              "720"
            ]
          },
          "metadata": {},
          "execution_count": 106
        }
      ]
    },
    {
      "cell_type": "markdown",
      "source": [
        "### Write lambda function for fibonacci series."
      ],
      "metadata": {
        "id": "MsvOh3E-TQtU"
      }
    },
    {
      "cell_type": "code",
      "source": [],
      "metadata": {
        "id": "fW5Kl8YRS1mp"
      },
      "execution_count": null,
      "outputs": []
    }
  ]
}