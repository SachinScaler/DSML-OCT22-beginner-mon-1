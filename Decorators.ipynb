{
  "nbformat": 4,
  "nbformat_minor": 0,
  "metadata": {
    "colab": {
      "provenance": []
    },
    "kernelspec": {
      "name": "python3",
      "display_name": "Python 3"
    },
    "language_info": {
      "name": "python"
    },
    "gpuClass": "standard"
  },
  "cells": [
    {
      "cell_type": "markdown",
      "source": [
        "Higher Order Function: Returns another function\n",
        "\n",
        "Decorators: \n",
        "- Decorators also return a function\n",
        "- Decorators also take function as an Argument"
      ],
      "metadata": {
        "id": "Ma0BuODoiK6Z"
      }
    },
    {
      "cell_type": "code",
      "source": [
        "def foo():\n",
        "  print(\"Hello Everyone! How are you\")\n",
        "\n",
        "foo()"
      ],
      "metadata": {
        "id": "zVnZ9hW6WtMt",
        "colab": {
          "base_uri": "https://localhost:8080/"
        },
        "outputId": "878d4047-a206-48e1-c652-ca8e879fee3a"
      },
      "execution_count": null,
      "outputs": [
        {
          "output_type": "stream",
          "name": "stdout",
          "text": [
            "Hello Everyone! How are you\n"
          ]
        }
      ]
    },
    {
      "cell_type": "code",
      "source": [
        "def bar():\n",
        "  print(\"I am doing Good. How about you?\")\n",
        "\n",
        "bar()"
      ],
      "metadata": {
        "id": "LsdklvAaWtKa",
        "colab": {
          "base_uri": "https://localhost:8080/"
        },
        "outputId": "1dd47d4e-6b73-48af-f70e-542efd20338b"
      },
      "execution_count": null,
      "outputs": [
        {
          "output_type": "stream",
          "name": "stdout",
          "text": [
            "I am doing Good. How about you?\n"
          ]
        }
      ]
    },
    {
      "cell_type": "code",
      "source": [
        "def foo():\n",
        "  print(\"-\"*50)\n",
        "  print(\"Hello Everyone! How are you\")\n",
        "  print(\"-\"*50)\n",
        "\n",
        "\n",
        "foo()"
      ],
      "metadata": {
        "id": "HYMMsKkdWtHw",
        "colab": {
          "base_uri": "https://localhost:8080/"
        },
        "outputId": "c5a2b0f2-6775-4115-8222-7e280aca4931"
      },
      "execution_count": null,
      "outputs": [
        {
          "output_type": "stream",
          "name": "stdout",
          "text": [
            "--------------------------------------------------\n",
            "Hello Everyone! How are you\n",
            "--------------------------------------------------\n"
          ]
        }
      ]
    },
    {
      "cell_type": "code",
      "source": [
        "def bar():\n",
        "  print(\"-\"*50)\n",
        "  print(\"I am doing Good. How about you?\")\n",
        "  print(\"-\"*50)\n",
        "\n",
        "\n",
        "bar()"
      ],
      "metadata": {
        "colab": {
          "base_uri": "https://localhost:8080/"
        },
        "id": "2ByYfbwUjJVk",
        "outputId": "f39f2a9b-2118-4386-8b13-65372bfd6d61"
      },
      "execution_count": null,
      "outputs": [
        {
          "output_type": "stream",
          "name": "stdout",
          "text": [
            "--------------------------------------------------\n",
            "I am doing Good. How about you?\n",
            "--------------------------------------------------\n"
          ]
        }
      ]
    },
    {
      "cell_type": "code",
      "source": [
        "from IPython.display import Image\n",
        "Image(url='https://media.tenor.com/kAbR22zos5QAAAAC/maza-nhi-aaya.gif')"
      ],
      "metadata": {
        "id": "rzlyOekXWtFK",
        "colab": {
          "base_uri": "https://localhost:8080/",
          "height": 300
        },
        "outputId": "46cf0d7a-a71e-4f92-b35c-c26e5c745bbb"
      },
      "execution_count": null,
      "outputs": [
        {
          "output_type": "execute_result",
          "data": {
            "text/html": [
              "<img src=\"https://media.tenor.com/kAbR22zos5QAAAAC/maza-nhi-aaya.gif\"/>"
            ],
            "text/plain": [
              "<IPython.core.display.Image object>"
            ]
          },
          "metadata": {},
          "execution_count": 13
        }
      ]
    },
    {
      "cell_type": "code",
      "source": [],
      "metadata": {
        "id": "_vKjuma8jykp"
      },
      "execution_count": null,
      "outputs": []
    },
    {
      "cell_type": "code",
      "source": [
        "print(\"-\"*50)\n",
        "bar()  \n",
        "print(\"-\"*50)"
      ],
      "metadata": {
        "colab": {
          "base_uri": "https://localhost:8080/"
        },
        "id": "h5roNjq3jyiV",
        "outputId": "70aa1b12-0efb-4784-f512-2168b049bb98"
      },
      "execution_count": null,
      "outputs": [
        {
          "output_type": "stream",
          "name": "stdout",
          "text": [
            "--------------------------------------------------\n",
            "I am doing Good. How about you?\n",
            "--------------------------------------------------\n"
          ]
        }
      ]
    },
    {
      "cell_type": "code",
      "source": [],
      "metadata": {
        "id": "dr6L3Cu5jyfy"
      },
      "execution_count": null,
      "outputs": []
    },
    {
      "cell_type": "code",
      "source": [
        "def pretty(func):\n",
        "  def inner():\n",
        "    print(\"-\"*50)\n",
        "    func()  \n",
        "    print(\"-\"*50)\n",
        "    \n",
        "  return inner"
      ],
      "metadata": {
        "id": "u6STtCxNWtCU"
      },
      "execution_count": null,
      "outputs": []
    },
    {
      "cell_type": "code",
      "source": [
        "def foo():\n",
        "  print(\"Hello Everyone! How are you\")\n",
        "\n",
        "foo()"
      ],
      "metadata": {
        "id": "ZuA1RJ_DWs_2",
        "colab": {
          "base_uri": "https://localhost:8080/"
        },
        "outputId": "d36bba52-2036-42b8-a4cc-f046ca7c6a32"
      },
      "execution_count": null,
      "outputs": [
        {
          "output_type": "stream",
          "name": "stdout",
          "text": [
            "Hello Everyone! How are you\n"
          ]
        }
      ]
    },
    {
      "cell_type": "code",
      "source": [
        "new_foo = pretty(foo)"
      ],
      "metadata": {
        "id": "6v7_kqXkWKIL"
      },
      "execution_count": null,
      "outputs": []
    },
    {
      "cell_type": "code",
      "source": [
        "new_foo()"
      ],
      "metadata": {
        "colab": {
          "base_uri": "https://localhost:8080/"
        },
        "id": "ONEnCMs7kkvD",
        "outputId": "17d592ec-cfa0-4d9f-9994-e226cf9d41f1"
      },
      "execution_count": null,
      "outputs": [
        {
          "output_type": "stream",
          "name": "stdout",
          "text": [
            "--------------------------------------------------\n",
            "Hello Everyone! How are you\n",
            "--------------------------------------------------\n"
          ]
        }
      ]
    },
    {
      "cell_type": "code",
      "source": [
        "def bar():\n",
        "  print(\"I am doing Good. How about you?\")\n",
        "\n",
        "new_bar = pretty(bar)\n",
        "new_bar()"
      ],
      "metadata": {
        "colab": {
          "base_uri": "https://localhost:8080/"
        },
        "id": "EbtgwSgpkw_p",
        "outputId": "781ce4df-7aea-468c-d1ff-0eb9599589e1"
      },
      "execution_count": null,
      "outputs": [
        {
          "output_type": "stream",
          "name": "stdout",
          "text": [
            "--------------------------------------------------\n",
            "I am doing Good. How about you?\n",
            "--------------------------------------------------\n"
          ]
        }
      ]
    },
    {
      "cell_type": "code",
      "source": [
        "pretty(bar)()"
      ],
      "metadata": {
        "colab": {
          "base_uri": "https://localhost:8080/"
        },
        "id": "2zaKtjIqkw8z",
        "outputId": "254b7ff7-bde6-4802-a853-0ae87310e189"
      },
      "execution_count": null,
      "outputs": [
        {
          "output_type": "stream",
          "name": "stdout",
          "text": [
            "--------------------------------------------------\n",
            "I am doing Good. How about you?\n",
            "--------------------------------------------------\n"
          ]
        }
      ]
    },
    {
      "cell_type": "markdown",
      "source": [
        "HOMEWROK: PRETTIFY AN ALREADY PRETTFIED FUNCTION"
      ],
      "metadata": {
        "id": "wDx5TviXlj3j"
      }
    },
    {
      "cell_type": "code",
      "source": [
        "@pretty\n",
        "def new_funct():\n",
        "  print(\"Whaaattttt!!!!\")\n",
        "  "
      ],
      "metadata": {
        "id": "5dCpoSXYkw6O"
      },
      "execution_count": null,
      "outputs": []
    },
    {
      "cell_type": "code",
      "source": [
        "new_funct()"
      ],
      "metadata": {
        "colab": {
          "base_uri": "https://localhost:8080/"
        },
        "id": "4nldVLJonsKw",
        "outputId": "a7343ca2-6ddb-4236-bee1-625ff9034b61"
      },
      "execution_count": null,
      "outputs": [
        {
          "output_type": "stream",
          "name": "stdout",
          "text": [
            "--------------------------------------------------\n",
            "Whaaattttt!!!!\n",
            "--------------------------------------------------\n"
          ]
        }
      ]
    },
    {
      "cell_type": "code",
      "source": [
        "def pretty2(func):\n",
        "  def inner():\n",
        "    print(\"i am going to make it look beautiful\")\n",
        "    print(\"-\"*50)\n",
        "    func()  \n",
        "    print(\"-\"*50)\n",
        "    \n",
        "  return inner\n",
        "\n",
        "@pretty2\n",
        "def func2():\n",
        "  print(\"Well this looks better, doesn't it\")\n"
      ],
      "metadata": {
        "id": "WLnllSL8opAk"
      },
      "execution_count": null,
      "outputs": []
    },
    {
      "cell_type": "code",
      "source": [
        "func2()"
      ],
      "metadata": {
        "colab": {
          "base_uri": "https://localhost:8080/"
        },
        "id": "qyd_sPJgo4vG",
        "outputId": "f44ab921-97cd-42b2-b6ad-7ea1c905a6e4"
      },
      "execution_count": null,
      "outputs": [
        {
          "output_type": "stream",
          "name": "stdout",
          "text": [
            "i am going to make it look beautiful\n",
            "--------------------------------------------------\n",
            "Well this looks better, doesn't it\n",
            "--------------------------------------------------\n"
          ]
        }
      ]
    },
    {
      "cell_type": "markdown",
      "source": [
        "- fastapi\n",
        "- flaskapi"
      ],
      "metadata": {
        "id": "DXRKFXXbpRmi"
      }
    },
    {
      "cell_type": "code",
      "source": [],
      "metadata": {
        "id": "1l5dBvdupO-I"
      },
      "execution_count": null,
      "outputs": []
    },
    {
      "cell_type": "code",
      "execution_count": null,
      "metadata": {
        "id": "mcYDFX_uV6wM",
        "colab": {
          "base_uri": "https://localhost:8080/",
          "height": 302
        },
        "outputId": "154bc8d5-290b-4515-c17f-79b7f8d8b892"
      },
      "outputs": [
        {
          "output_type": "execute_result",
          "data": {
            "text/html": [
              "<img src=\"https://media.tenor.com/sAC8DAMUGwAAAAAC/maza-aaya-rahul-gandhi.gif\"/>"
            ],
            "text/plain": [
              "<IPython.core.display.Image object>"
            ]
          },
          "metadata": {},
          "execution_count": 26
        }
      ],
      "source": [
        "from IPython.display import Image\n",
        "Image(url='https://media.tenor.com/sAC8DAMUGwAAAAAC/maza-aaya-rahul-gandhi.gif')"
      ]
    },
    {
      "cell_type": "code",
      "source": [],
      "metadata": {
        "id": "HpkdKCcyWHu7"
      },
      "execution_count": null,
      "outputs": []
    }
  ]
}