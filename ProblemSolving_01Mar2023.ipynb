{
  "nbformat": 4,
  "nbformat_minor": 0,
  "metadata": {
    "colab": {
      "provenance": [],
      "include_colab_link": true
    },
    "kernelspec": {
      "name": "python3",
      "display_name": "Python 3"
    },
    "language_info": {
      "name": "python"
    }
  },
  "cells": [
    {
      "cell_type": "markdown",
      "metadata": {
        "id": "view-in-github",
        "colab_type": "text"
      },
      "source": [
        "<a href=\"https://colab.research.google.com/github/SachinScaler/DSML-OCT22-beginner-mon-1/blob/main/ProblemSolving_01Mar2023.ipynb\" target=\"_parent\"><img src=\"https://colab.research.google.com/assets/colab-badge.svg\" alt=\"Open In Colab\"/></a>"
      ]
    },
    {
      "cell_type": "markdown",
      "metadata": {
        "id": "pNwH8nRMNgFZ"
      },
      "source": [
        "Lecture Link: https://colab.research.google.com/drive/1AWBUxVC5P1L2ATVE1HI3cPXkex0vOjOF?usp=sharing\n",
        "\n",
        "\n",
        "1) How many problem solving classes do we have ? 1 per week i.e. 4 per month\n",
        "\n",
        "2) When is the next transition test happening ? Once every 2 weeks i.e 2 per month\n",
        "\n",
        "3) Doubts or questions ? Whatsapp Group, support@scaler.com, Teaching Assistant\n",
        "\n",
        "4) My email id ? titas.de_1@scaler.com "
      ]
    },
    {
      "cell_type": "markdown",
      "source": [
        "## Words of length\n",
        "Write a Python function that takes a string and a length value as input arguments and returns the words from the string whose length is equal to the provided input length value.\n",
        "\n",
        "**Input Sample**:\n",
        "```\n",
        "\"The world has changed and none of us can go back all we can do is our best and sometimes the best that we can do is to start over\"\n",
        "5\n",
        "```\n",
        "**Output Sample**\n",
        "```\n",
        "[‘world’, ‘start’]\n",
        "```\n"
      ],
      "metadata": {
        "id": "ebdrPlYRgK82"
      }
    },
    {
      "cell_type": "code",
      "source": [
        "str1 = \"The world has changed and none of us can go back all we can do is our best and sometimes the best that we can do is to start over\"\n",
        "L = 5\n",
        "\n",
        "words = str1.split(\" \")\n",
        "#print(words)\n",
        "#result = []\n",
        "#for word in words:\n",
        "#  if len(word)==L:\n",
        "#    result.append(word)\n",
        "\n",
        "result1 = [word for word in words if len(word)==L] # list comprehension\n",
        "print(result1)\n",
        "\n",
        "result2 = list(filter(lambda x:len(x)==L,str1.split(\" \"))) # filter function\n",
        "print(result2) "
      ],
      "metadata": {
        "colab": {
          "base_uri": "https://localhost:8080/"
        },
        "id": "-CFBViQG2tiR",
        "outputId": "6d20d098-d3d7-4b46-ea16-65ee0bc48efb"
      },
      "execution_count": null,
      "outputs": [
        {
          "output_type": "stream",
          "name": "stdout",
          "text": [
            "['world', 'start']\n",
            "['world', 'start']\n"
          ]
        }
      ]
    },
    {
      "cell_type": "markdown",
      "source": [
        "## Map, reduce and filter\n",
        "In this exercise, complete the function func, which takes integers, names, and numbers as the parameters.\n",
        "\n",
        "a. Use map() to return the list of the squares of each number.\n",
        "\n",
        "b. Use filter() to return the list with only those names that have less than or equal to seven letters.\n",
        "\n",
        "c. Use reduce() to return the product of elements of list numbers.\n",
        "\n",
        "**Input Format**:\n",
        "```\n",
        "Space separated values for integers\n",
        "Space separated values for names (string)\n",
        "Space separated values for numbers\n",
        "```\n",
        "**Output Format**\n",
        "```\n",
        "List of the squares of each number\n",
        "List with only those names that have less than or equal to seven letters.\n",
        "The product of elements of list numbers.\n",
        "```\n",
        "**Input Sample 1**:\n",
        "```\n",
        "4 6 3 9 2 8 12\n",
        "scaler interviewbit rishabh student course\n",
        "4 6 9 23 5\n",
        "```\n",
        "**Output Sample 1**\n",
        "```\n",
        "[16, 36, 9, 81, 4, 64, 144]\n",
        "['scaler', 'rishabh', 'student', 'course']\n",
        "24840\n",
        "```"
      ],
      "metadata": {
        "id": "Cbf3cbZVZBqF"
      }
    },
    {
      "cell_type": "code",
      "source": [
        "#from functools import reduce\n",
        "import functools\n",
        "def func(integers, names, numbers):\n",
        "  squares = list(map(lambda x:x*x,integers))\n",
        "  filtered_names = list(filter(lambda x:len(x)<=7,names))\n",
        "  prod = functools.reduce(lambda x,y:x*y,numbers)\n",
        "\n",
        "  return squares, filtered_names, prod\n",
        "\n",
        "integers = [4,6,3,9,2,8,12]\n",
        "names = ['scaler','interviewbit','rishabh','student','course']\n",
        "numbers = [4,6,9,23,5]\n",
        "\n",
        "\n",
        "squares, filtered_names, prod = func(integers, names, numbers)\n",
        "print(squares)\n",
        "print(filtered_names) \n",
        "print(prod)  "
      ],
      "metadata": {
        "colab": {
          "base_uri": "https://localhost:8080/"
        },
        "id": "5at50prb5hBc",
        "outputId": "9e8b0dc2-42ab-40ca-be14-355dc4a4f352"
      },
      "execution_count": null,
      "outputs": [
        {
          "output_type": "stream",
          "name": "stdout",
          "text": [
            "[16, 36, 9, 81, 4, 64, 144]\n",
            "['scaler', 'rishabh', 'student', 'course']\n",
            "24840\n"
          ]
        }
      ]
    },
    {
      "cell_type": "code",
      "source": [
        "numbers = [1,2,3,4]\n",
        "result = reduce(lambda x,y:x-y,numbers)\n",
        "print(result)"
      ],
      "metadata": {
        "colab": {
          "base_uri": "https://localhost:8080/"
        },
        "id": "NshlHXL9773W",
        "outputId": "a088d211-3a8e-4f2f-cd35-5c831642dad6"
      },
      "execution_count": null,
      "outputs": [
        {
          "output_type": "stream",
          "name": "stdout",
          "text": [
            "-8\n"
          ]
        }
      ]
    },
    {
      "cell_type": "markdown",
      "source": [
        "## Nested Sort\n",
        "You are given a nested list of strings of varying lengths.\n",
        "\n",
        "For each list, sort the string on the basis of the number of times the character ‘a’ appears in the string such that the string having the most number of ‘a’ comes first in the lists.\n",
        "\n",
        "Complete the python function and return the sorted list.\n",
        "\n",
        "Note: If 2 strings has the same number of 'a', keep them in the same order as entered in the list.\n",
        "\n",
        "**Input Sample 1**:\n",
        "```\n",
        "3\n",
        "mango banana guava\n",
        "rose sandalwood\n",
        "bccc aaa baac c\n",
        "```\n",
        "**Output Sample 1**\n",
        "```\n",
        "[['banana', 'guava', 'mango'], ['sandalwood', 'rose'], ['aaa', 'baac', 'bccc', 'c']]\n",
        "```\n"
      ],
      "metadata": {
        "id": "XL1is5oqRsdJ"
      }
    },
    {
      "cell_type": "code",
      "source": [
        "nested_str = [['mango','banana','guava'],['rose','sandalwood'],['bccc','aaa','baac','c']]\n",
        "output =  [(sorted(s, key=lambda x: x.count(\"a\"),reverse=True)) for s in nested_str]\n",
        "print(output)"
      ],
      "metadata": {
        "colab": {
          "base_uri": "https://localhost:8080/"
        },
        "id": "Cjn5AvnN-K4Q",
        "outputId": "9a7a406b-0325-40b2-9b0b-d5f6d5210667"
      },
      "execution_count": null,
      "outputs": [
        {
          "output_type": "stream",
          "name": "stdout",
          "text": [
            "[['banana', 'guava', 'mango'], ['sandalwood', 'rose'], ['aaa', 'baac', 'bccc', 'c']]\n"
          ]
        }
      ]
    },
    {
      "cell_type": "code",
      "source": [
        "# Homework Question\n",
        "# find the 2nd maximum element in O(1*N) TC and O(1) SC\n",
        "\n",
        "arr = [1,5,6,-1,0,2,3]\n",
        "# find 2nd maximum element\n",
        "max_elem = max(arr) # O(N)\n",
        "#print(max_elem)\n",
        "second_max_elem = -1 * 10**9 # default value for the 2nd maximum element, -1e9 = -1 * 10**9\n",
        "for elem in arr: #O(N)\n",
        "  if elem>second_max_elem and elem!=max_elem:\n",
        "    second_max_elem = elem\n",
        "\n",
        "print(second_max_elem)"
      ],
      "metadata": {
        "colab": {
          "base_uri": "https://localhost:8080/"
        },
        "id": "lFt9EWrr_ro2",
        "outputId": "2e0c1368-b476-4be6-88f0-0a004e0b616c"
      },
      "execution_count": null,
      "outputs": [
        {
          "output_type": "stream",
          "name": "stdout",
          "text": [
            "5\n"
          ]
        }
      ]
    },
    {
      "cell_type": "markdown",
      "source": [
        "## 2nd lowest score\n",
        "Find the second-lowest grade from the list of given names and grades of each student using lambda function. \n",
        "\n",
        "**Input Sample 1**:\n",
        "```\n",
        "[['S ROY', 1.0], ['B BOSE', 3.0], ['N KAR', 2.0], ['C DUTTA', 1.0], ['G GHOSH', 1.0]]\n",
        "```\n",
        "**Output Sample 1**\n",
        "```\n",
        "2.0 N KAR\n",
        "```\n",
        "\n"
      ],
      "metadata": {
        "id": "53EIxKmI1ECH"
      }
    },
    {
      "cell_type": "code",
      "source": [
        "student_grades = [['S ROY', 1.0], ['B BOSE', 3.0], ['Amit Shah', 2.0], ['N KAR', 2.0], ['C DUTTA', 1.0], ['G GHOSH', 1.0]]\n",
        "min_grade = 10**9\n",
        "for student_grade in student_grades: #O(N)\n",
        "  grade = student_grade[1]\n",
        "  if grade<min_grade:\n",
        "    min_grade = grade \n",
        "#print(min_grade)\n",
        "second_min_grade = 10**9\n",
        "for student_grade in student_grades: #O(N)\n",
        "  student, grade = student_grade[0], student_grade[1]\n",
        "  if grade<second_min_grade and grade!=min_grade:\n",
        "    second_min_grade = grade \n",
        "    student_with_second_min_grade = student\n",
        "\n",
        "# Total = O(2*N) = O(N) < O(N*logN)\n",
        "print(second_min_grade, student_with_second_min_grade)"
      ],
      "metadata": {
        "colab": {
          "base_uri": "https://localhost:8080/"
        },
        "id": "b0nWDJkfD-Dc",
        "outputId": "466cfc70-3d67-4523-9db8-261664918baa"
      },
      "execution_count": null,
      "outputs": [
        {
          "output_type": "stream",
          "name": "stdout",
          "text": [
            "2.0 Amit Shah\n"
          ]
        }
      ]
    },
    {
      "cell_type": "code",
      "source": [
        "arr = [1,3,-1,0,5]\n",
        "min_elem = 5\n",
        "for elem in arr:\n",
        "  if elem<min_elem:\n",
        "    min_elem = elem\n",
        "  print(elem,min_elem)\n",
        "\n",
        "print(min_elem)"
      ],
      "metadata": {
        "colab": {
          "base_uri": "https://localhost:8080/"
        },
        "id": "QVSFdiw8GzBU",
        "outputId": "476f3e2b-be0f-4219-819b-65cac05987ac"
      },
      "execution_count": null,
      "outputs": [
        {
          "output_type": "stream",
          "name": "stdout",
          "text": [
            "1 1\n",
            "3 1\n",
            "-1 -1\n",
            "0 -1\n",
            "5 -1\n",
            "-1\n"
          ]
        }
      ]
    },
    {
      "cell_type": "code",
      "source": [
        "a=[1,[2,3],4,5]\n",
        "output = [3,[4,6],12,15]\n",
        "output = [3,[2,3,2,3],12,15]\n",
        "\n",
        "result = lambda x: list(map(lambda y:2*y, x)) if isinstance(x,list) else lambda x:3x\n",
        "print(result(a))"
      ],
      "metadata": {
        "colab": {
          "base_uri": "https://localhost:8080/",
          "height": 133
        },
        "id": "G4ccNXcJIQ-W",
        "outputId": "7f617e97-ba19-4116-9fbe-59d96b417401"
      },
      "execution_count": null,
      "outputs": [
        {
          "output_type": "error",
          "ename": "SyntaxError",
          "evalue": "ignored",
          "traceback": [
            "\u001b[0;36m  File \u001b[0;32m\"<ipython-input-38-3f13bc7e00a3>\"\u001b[0;36m, line \u001b[0;32m4\u001b[0m\n\u001b[0;31m    result = [lambda x: list(map(lambda y:2*y, x)) if isinstance(x,list) else lambda x:3x]\u001b[0m\n\u001b[0m                                                                                        ^\u001b[0m\n\u001b[0;31mSyntaxError\u001b[0m\u001b[0;31m:\u001b[0m invalid syntax\n"
          ]
        }
      ]
    }
  ]
}