{
  "nbformat": 4,
  "nbformat_minor": 0,
  "metadata": {
    "colab": {
      "provenance": [],
      "include_colab_link": true
    },
    "kernelspec": {
      "name": "python3",
      "display_name": "Python 3"
    },
    "language_info": {
      "name": "python"
    }
  },
  "cells": [
    {
      "cell_type": "markdown",
      "metadata": {
        "id": "view-in-github",
        "colab_type": "text"
      },
      "source": [
        "<a href=\"https://colab.research.google.com/github/SachinScaler/DSML-OCT22-beginner-mon-1/blob/main/ProblemsolvingMISC_12Feb2023.ipynb\" target=\"_parent\"><img src=\"https://colab.research.google.com/assets/colab-badge.svg\" alt=\"Open In Colab\"/></a>"
      ]
    },
    {
      "cell_type": "markdown",
      "metadata": {
        "id": "pNwH8nRMNgFZ"
      },
      "source": [
        "Lecture Link: https://colab.research.google.com/drive/1xTIyD726xBaR7mbmht7lUsLE43cNVZ6L?usp=sharing\n",
        "\n",
        "\n",
        "1) How many problem solving classes do we have ? 1 per week i.e. 4 per month\n",
        "\n",
        "2) When is the next transition test happening ? Once every 2 weeks i.e 2 per month\n",
        "\n",
        "3) Doubts or questions ? Whatsapp Group, support@scaler.com, Teaching Assistant\n",
        "\n",
        "4) My email id ? titas.de_1@scaler.com "
      ]
    },
    {
      "cell_type": "markdown",
      "source": [
        "## Integer Square Root\n",
        "Find the floor integer square root of a big number N. \n",
        "\n",
        "Only +, -, /, * operations can be used with no library functions.\n",
        "\n",
        "\n",
        "**Input Sample**:\n",
        "```\n",
        "N = 1026\n",
        "```\n",
        "**Output Sample**\n",
        "```\n",
        "32\n",
        "```\n",
        "**Explanation**\n",
        "```\n",
        "32*32 = 1024 AND 33*33 = 1089\n",
        "```"
      ],
      "metadata": {
        "id": "ebdrPlYRgK82"
      }
    },
    {
      "cell_type": "code",
      "source": [
        "N = 1026\n",
        "ans = 1\n",
        "ctr = 0\n",
        "while True: # infinite loop\n",
        "  ctr = ctr + 1\n",
        "  sqr = ans * ans\n",
        "  if sqr==N:\n",
        "    break\n",
        "  elif sqr > N:\n",
        "    ans = ans - 1\n",
        "    break\n",
        "\n",
        "  ans = ans + 1\n",
        "\n",
        "print(\"answer = \",ans) \n",
        "print(\"number of times loop got executed = \",ctr)"
      ],
      "metadata": {
        "colab": {
          "base_uri": "https://localhost:8080/"
        },
        "id": "lYqI5PZJXcsX",
        "outputId": "ac49703b-4395-421d-b999-3ac490f3f064"
      },
      "execution_count": null,
      "outputs": [
        {
          "output_type": "stream",
          "name": "stdout",
          "text": [
            "answer =  32\n",
            "number of times loop got executed =  33\n"
          ]
        }
      ]
    },
    {
      "cell_type": "code",
      "source": [
        "N = 1026\n",
        "low, high = 1, N//2\n",
        "ans = None\n",
        "ctr = 0\n",
        "while low<=high:\n",
        "  ctr = ctr + 1\n",
        "  mid = (low+high)//2\n",
        "  sqr = mid * mid\n",
        "  if sqr<=N: # i*i<=N\n",
        "    ans = mid # one possible value of int sqrt(N)\n",
        "    low = mid + 1\n",
        "  else: # i*i>N\n",
        "    high = mid - 1\n",
        "\n",
        "print(\"answer = \",ans) \n",
        "print(\"number of times loop got executed = \",ctr)"
      ],
      "metadata": {
        "colab": {
          "base_uri": "https://localhost:8080/"
        },
        "id": "nEqgQTJlX_X3",
        "outputId": "1e56532b-048e-45cf-fffd-c47473c1f22e"
      },
      "execution_count": null,
      "outputs": [
        {
          "output_type": "stream",
          "name": "stdout",
          "text": [
            "answer =  32\n",
            "number of times loop got executed =  9\n"
          ]
        }
      ]
    },
    {
      "cell_type": "code",
      "source": [
        "# TC: O(2^N), SC: O(1)\n",
        "# Nth fibonacci number\n",
        "def getNthFibonacci(N):\n",
        "  if N==1: # base condition 1\n",
        "    return 0\n",
        "  elif N==2: # base condition 2\n",
        "    return 1\n",
        "  else: # recursive condition\n",
        "    print(\"compute being done for N = \",N)\n",
        "    return getNthFibonacci(N-1) + getNthFibonacci(N-2)\n",
        "\n",
        "N = 8\n",
        "print(getNthFibonacci(N))"
      ],
      "metadata": {
        "colab": {
          "base_uri": "https://localhost:8080/"
        },
        "id": "GntVsg3gav9E",
        "outputId": "00198147-97e6-4d47-c010-0a854d9832ad"
      },
      "execution_count": null,
      "outputs": [
        {
          "output_type": "stream",
          "name": "stdout",
          "text": [
            "compute being done for N =  8\n",
            "compute being done for N =  7\n",
            "compute being done for N =  6\n",
            "compute being done for N =  5\n",
            "compute being done for N =  4\n",
            "compute being done for N =  3\n",
            "compute being done for N =  3\n",
            "compute being done for N =  4\n",
            "compute being done for N =  3\n",
            "compute being done for N =  5\n",
            "compute being done for N =  4\n",
            "compute being done for N =  3\n",
            "compute being done for N =  3\n",
            "compute being done for N =  6\n",
            "compute being done for N =  5\n",
            "compute being done for N =  4\n",
            "compute being done for N =  3\n",
            "compute being done for N =  3\n",
            "compute being done for N =  4\n",
            "compute being done for N =  3\n",
            "13\n"
          ]
        }
      ]
    },
    {
      "cell_type": "code",
      "source": [
        "# TC: O(N), SC: O(N)\n",
        "def getNthFibonacci_memoization(N):\n",
        "  # base condition\n",
        "  if fibo_arr[N]>-1: # fibo_arr[N] is already computed, calling from memory\n",
        "    print(\"memory called for N = \",N)\n",
        "    return fibo_arr[N]\n",
        "  # recursive condition\n",
        "  else:\n",
        "    print(\"compute being done for N = \",N)\n",
        "    fibo_arr[N] = getNthFibonacci_memoization(N-1) + getNthFibonacci_memoization(N-2)\n",
        "    return fibo_arr[N]\n",
        "\n",
        "N = 8\n",
        "fibo_arr = [-1]*(N+1)\n",
        "fibo_arr[1], fibo_arr[2] = 0, 1\n",
        "#print(fibo_arr)\n",
        "print(getNthFibonacci_memoization(N))\n",
        "#print(fibo_arr)"
      ],
      "metadata": {
        "colab": {
          "base_uri": "https://localhost:8080/"
        },
        "id": "EUkA081_dgoT",
        "outputId": "1d63e516-22cd-4d24-8ec2-43fc9fdab266"
      },
      "execution_count": null,
      "outputs": [
        {
          "output_type": "stream",
          "name": "stdout",
          "text": [
            "compute being done for N =  8\n",
            "compute being done for N =  7\n",
            "compute being done for N =  6\n",
            "compute being done for N =  5\n",
            "compute being done for N =  4\n",
            "compute being done for N =  3\n",
            "memory called for N =  2\n",
            "memory called for N =  1\n",
            "memory called for N =  2\n",
            "memory called for N =  3\n",
            "memory called for N =  4\n",
            "memory called for N =  5\n",
            "memory called for N =  6\n",
            "13\n"
          ]
        }
      ]
    },
    {
      "cell_type": "code",
      "source": [
        "# TC: O(N), SC: O(N)\n",
        "N = 10\n",
        "fibo_arr = [-1]*(N+1)\n",
        "fibo_arr[1], fibo_arr[2] = 0, 1\n",
        "print(fibo_arr) \n",
        "for i in range(3,N+1): # 3 to N\n",
        "  fibo_arr[i] = fibo_arr[i-1] + fibo_arr[i-2] \n",
        "\n",
        "print(fibo_arr)"
      ],
      "metadata": {
        "colab": {
          "base_uri": "https://localhost:8080/"
        },
        "id": "32NKSaAohLLH",
        "outputId": "00f61981-2a4a-4212-93d4-d9d511146532"
      },
      "execution_count": null,
      "outputs": [
        {
          "output_type": "stream",
          "name": "stdout",
          "text": [
            "[-1, 0, 1, -1, -1, -1, -1, -1, -1, -1, -1]\n",
            "[-1, 0, 1, 1, 2, 3, 5, 8, 13, 21, 34]\n"
          ]
        }
      ]
    },
    {
      "cell_type": "code",
      "source": [
        "# TC: O(N), SC: O(1)\n",
        "N = 10\n",
        "prev_val = 1 # fibo[2]\n",
        "prev_prev_val = 0 # fibo[1]\n",
        "for i in range(3,N+1):\n",
        "  curr_val = prev_val + prev_prev_val # computed F[i] = F[i-1] + F[i-2]\n",
        "  prev_prev_val = prev_val # F[i-2] -> F[i-1]\n",
        "  prev_val = curr_val # F[i-1] -> F[i]\n",
        "\n",
        "print(curr_val)"
      ],
      "metadata": {
        "colab": {
          "base_uri": "https://localhost:8080/"
        },
        "id": "vEAEPQh3jOlF",
        "outputId": "5f6c78a1-e766-4988-c1f3-c1110bbd0e41"
      },
      "execution_count": null,
      "outputs": [
        {
          "output_type": "stream",
          "name": "stdout",
          "text": [
            "34\n"
          ]
        }
      ]
    },
    {
      "cell_type": "code",
      "source": [
        "# fast exponentiation\n",
        "# base^N -> very fast\n",
        "\n",
        "# base = 2, N = 10 -> ans = 1024\n",
        "\n",
        "# we can't do 2**10 or base**N -> it's a special library function\n",
        "# +, -, /, * -> these all can be used\n",
        "\n",
        "def power(base,N): # TC: O(N)\n",
        "  ans = 1\n",
        "  for i in range(1,N+1):\n",
        "    ans = ans * base\n",
        "  return ans\n",
        "\n",
        "base, N = 3, 4\n",
        "print(power(base,N))"
      ],
      "metadata": {
        "colab": {
          "base_uri": "https://localhost:8080/"
        },
        "id": "KAwkT-PhlGvE",
        "outputId": "a50214bf-d072-47bf-fd91-e8c4527fb1f1"
      },
      "execution_count": null,
      "outputs": [
        {
          "output_type": "stream",
          "name": "stdout",
          "text": [
            "81\n"
          ]
        }
      ]
    },
    {
      "cell_type": "code",
      "source": [
        "def power_recur(base,N): # TC: O(N)\n",
        "  if N==1:\n",
        "    return base\n",
        "  else:\n",
        "    return base*power_recur(base,N-1)\n",
        "\n",
        "base, N = 3, 4\n",
        "print(power_recur(base,N))"
      ],
      "metadata": {
        "colab": {
          "base_uri": "https://localhost:8080/"
        },
        "id": "3VgcuPO3m3Cd",
        "outputId": "a2f9b811-0dc7-431a-c522-7cdd25b65461"
      },
      "execution_count": null,
      "outputs": [
        {
          "output_type": "stream",
          "name": "stdout",
          "text": [
            "81\n"
          ]
        }
      ]
    },
    {
      "cell_type": "code",
      "source": [
        "def power_recur_by2(base,N):\n",
        "  if N==1:\n",
        "    return base\n",
        "  else:\n",
        "    if N%2==0: # it's even\n",
        "      return power_recur_by2(base,N//2)*power_recur_by2(base,N//2)\n",
        "    else: # it's odd\n",
        "      return power_recur_by2(base,N//2)*power_recur_by2(base,N//2)*base\n",
        "\n",
        "base, N = 2, 10\n",
        "print(power_recur_by2(base,N))\n"
      ],
      "metadata": {
        "colab": {
          "base_uri": "https://localhost:8080/"
        },
        "id": "F--RJbiunRsc",
        "outputId": "bafc4db3-25f6-439c-9d7e-094d5b61fedb"
      },
      "execution_count": null,
      "outputs": [
        {
          "output_type": "stream",
          "name": "stdout",
          "text": [
            "1024\n"
          ]
        }
      ]
    },
    {
      "cell_type": "code",
      "source": [
        "def power_recur_by2_memoization(base,N):\n",
        "  # base condition\n",
        "  if N in power_dict: # this means value has been computed for power=N\n",
        "    # calling from memory part\n",
        "    return power_dict[N]\n",
        "  else: # recursive condition\n",
        "    # computation part\n",
        "    #print(\"computation done for N = \",N)\n",
        "    val = power_recur_by2_memoization(base,N//2)\n",
        "    if N%2==0: # it's even\n",
        "      power_dict[N] = val * val\n",
        "      #return power_recur_by2(base,N//2)*power_recur_by2(base,N//2)\n",
        "    else: # it's odd\n",
        "      #return power_recur_by2(base,N//2)*power_recur_by2(base,N//2)*base\n",
        "      power_dict[N] = val * val * base\n",
        "    \n",
        "    return power_dict[N]\n",
        "\n",
        "base, N = 3, 10\n",
        "power_dict = {1:base}\n",
        "print(power_dict)\n",
        "print(power_recur_by2_memoization(base,N))\n",
        "print(power_dict)"
      ],
      "metadata": {
        "colab": {
          "base_uri": "https://localhost:8080/"
        },
        "id": "0s0N8_-Hohg2",
        "outputId": "192512a0-ebcc-4896-8ee1-a46198f3c03f"
      },
      "execution_count": null,
      "outputs": [
        {
          "output_type": "stream",
          "name": "stdout",
          "text": [
            "{1: 3}\n",
            "59049\n",
            "{1: 3, 2: 9, 5: 243, 10: 59049}\n"
          ]
        }
      ]
    },
    {
      "cell_type": "code",
      "source": [
        "def power(base, N): # TC: O(log(N))\n",
        "  if N == 1: \n",
        "    return base \n",
        "  else: \n",
        "    print(\"computation being done for N = \",N)\n",
        "    val = power(base, N//2) \n",
        "    if N % 2 == 0: \n",
        "      return val * val \n",
        "    else: \n",
        "      return val * val * base \n",
        "\n",
        "print(power(2, 10))"
      ],
      "metadata": {
        "colab": {
          "base_uri": "https://localhost:8080/"
        },
        "id": "ujdgrnRQrv5o",
        "outputId": "cfa4351e-72af-42d5-8f14-c54c8c26b536"
      },
      "execution_count": null,
      "outputs": [
        {
          "output_type": "stream",
          "name": "stdout",
          "text": [
            "computation being done for N =  10\n",
            "computation being done for N =  5\n",
            "computation being done for N =  2\n",
            "1024\n"
          ]
        }
      ]
    },
    {
      "cell_type": "code",
      "source": [
        "import numpy as np\n",
        "\n",
        "# Nth fibonacci number\n",
        "def getFiboMatrix(mat,N):\n",
        "  if N == 1:\n",
        "    return mat \n",
        "  else:\n",
        "    print(\"computation being done for N = \",N)\n",
        "    val_mat = getFiboMatrix(mat, N//2) \n",
        "    if N % 2 == 0: \n",
        "      return np.matmul(val_mat,val_mat) \n",
        "    else: \n",
        "      return np.matmul(np.matmul(val_mat,val_mat),base)  \n",
        "\n",
        "N = 10\n",
        "T = [[1,1],[1,0]]\n",
        "start_matrix = [1,0] # [F(2),F(1)]\n",
        "res_matrix = np.matmul(getFiboMatrix(T,N-2),start_matrix)\n",
        "print(res_matrix[0])"
      ],
      "metadata": {
        "colab": {
          "base_uri": "https://localhost:8080/"
        },
        "id": "H97_Cn2huWfG",
        "outputId": "23867eea-fa14-40d9-d18d-b2b6ac315f93"
      },
      "execution_count": null,
      "outputs": [
        {
          "output_type": "stream",
          "name": "stdout",
          "text": [
            "computation being done for N =  8\n",
            "computation being done for N =  4\n",
            "computation being done for N =  2\n",
            "34\n"
          ]
        }
      ]
    }
  ]
}